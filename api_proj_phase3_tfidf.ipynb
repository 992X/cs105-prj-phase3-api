{
 "cells": [
  {
   "cell_type": "markdown",
   "metadata": {},
   "source": [
    "# Project Phase 3 - Machine Learning (Tf-idf)"
   ]
  },
  {
   "cell_type": "code",
   "execution_count": 1,
   "metadata": {},
   "outputs": [],
   "source": [
    "import pandas as pd\n",
    "import os\n",
    "from sklearn.feature_extraction.text import TfidfVectorizer \n",
    "tfidf = TfidfVectorizer(sublinear_tf=True, min_df=5, norm='l2', encoding='latin-1', ngram_range=(1, 2), stop_words='english')\n"
   ]
  },
  {
   "cell_type": "code",
   "execution_count": 2,
   "metadata": {},
   "outputs": [],
   "source": [
    "path = 'newest dcbox resource/'\n",
    "dest_path = 'newest dcbox resource/'\n",
    "dirs = os.listdir(path)\n",
    "dirs.remove('.ipynb_checkpoints')"
   ]
  },
  {
   "cell_type": "code",
   "execution_count": 3,
   "metadata": {},
   "outputs": [],
   "source": [
    "df_train = pd.DataFrame()\n",
    "# body_df['sentences']\n",
    "counter = 0\n",
    "for file in dirs:\n",
    "    body_df = pd.read_csv(path + file)\n",
    "    body_df.loc[:, 'category'] = file.replace('.json.csv','')\n",
    "    body_df.loc[:, 'category_id'] = counter\n",
    "    df_train = df_train.append(body_df,ignore_index = True)\n",
    "    counter += 1\n"
   ]
  },
  {
   "cell_type": "code",
   "execution_count": 4,
   "metadata": {},
   "outputs": [
    {
     "data": {
      "text/plain": [
       "(39366, 32457)"
      ]
     },
     "execution_count": 4,
     "metadata": {},
     "output_type": "execute_result"
    }
   ],
   "source": [
    "features = tfidf.fit_transform(df_train.sentences).toarray()\n",
    "labels = df_train.category_id\n",
    "features.shape\n"
   ]
  },
  {
   "cell_type": "code",
   "execution_count": 5,
   "metadata": {},
   "outputs": [
    {
     "name": "stdout",
     "output_type": "stream",
     "text": [
      "# 'business':\n",
      "  . Most correlated unigrams:\n",
      ". mlb\n",
      ". elton\n",
      "  . Most correlated bigrams:\n",
      ". league teams\n",
      ". minor league\n",
      "# 'children education':\n",
      "  . Most correlated unigrams:\n",
      ". brothman\n",
      ". cadca\n",
      "  . Most correlated bigrams:\n",
      ". winthrop harbor\n",
      ". state union\n",
      "# 'consumer':\n",
      "  . Most correlated unigrams:\n",
      ". consumers\n",
      ". spectrum\n",
      "  . Most correlated bigrams:\n",
      ". traced act\n",
      ". 2019 house\n",
      "# 'fashion beauty':\n",
      "  . Most correlated unigrams:\n",
      ". collins\n",
      ". beautiful\n",
      "  . Most correlated bigrams:\n",
      ". west virginians\n",
      ". senator collins\n",
      "# 'fitness sports':\n",
      "  . Most correlated unigrams:\n",
      ". que\n",
      ". sports\n",
      "  . Most correlated bigrams:\n",
      ". professor myers\n",
      ". perdue said\n",
      "# 'food beverage':\n",
      "  . Most correlated unigrams:\n",
      ". thanksgiving\n",
      ". food\n",
      "  . Most correlated bigrams:\n",
      ". increase year\n",
      ". native hawaiian\n",
      "# 'green cleantech':\n",
      "  . Most correlated unigrams:\n",
      ". corina\n",
      ". green\n",
      "  . Most correlated bigrams:\n",
      ". al green\n",
      ". impeachment inquiries\n",
      "# 'healthcare':\n",
      "  . Most correlated unigrams:\n",
      ". risch\n",
      ". healthcare\n",
      "  . Most correlated bigrams:\n",
      ". american samoa\n",
      ". stomach cancer\n",
      "# 'lifecycle home':\n",
      "  . Most correlated unigrams:\n",
      ". glenn\n",
      ". lipinski\n",
      "  . Most correlated bigrams:\n",
      ". chairman lipinski\n",
      ". congressman lipinski\n",
      "# 'media enterainment':\n",
      "  . Most correlated unigrams:\n",
      ". buchanan\n",
      ". humar\n",
      "  . Most correlated bigrams:\n",
      ". problem solvers\n",
      ". taxpayer advocate\n",
      "# 'pet':\n",
      "  . Most correlated unigrams:\n",
      ". pet\n",
      ". pets\n",
      "  . Most correlated bigrams:\n",
      ". tax reform\n",
      ". 01d33947 414a83a0\n",
      "# 'software tech':\n",
      "  . Most correlated unigrams:\n",
      ". hydrogen\n",
      ". tech\n",
      "  . Most correlated bigrams:\n",
      ". northeast ohio\n",
      ". rep cisneros\n"
     ]
    }
   ],
   "source": [
    "from sklearn.feature_selection import chi2\n",
    "import numpy as np\n",
    "N = 2\n",
    "category_id_df = df_train[['category', 'category_id']]\n",
    "category_to_id = dict(category_id_df.values)\n",
    "\n",
    "for category, category_id in sorted(category_to_id.items()):\n",
    "  features_chi2 = chi2(features, labels == category_id)\n",
    "  indices = np.argsort(features_chi2[0])\n",
    "  feature_names = np.array(tfidf.get_feature_names())[indices]\n",
    "  unigrams = [v for v in feature_names if len(v.split(' ')) == 1]\n",
    "  bigrams = [v for v in feature_names if len(v.split(' ')) == 2]\n",
    "  print(\"# '{}':\".format(category))\n",
    "  print(\"  . Most correlated unigrams:\\n. {}\".format('\\n. '.join(unigrams[-N:])))\n",
    "  print(\"  . Most correlated bigrams:\\n. {}\".format('\\n. '.join(bigrams[-N:])))\n",
    "    "
   ]
  },
  {
   "cell_type": "code",
   "execution_count": 6,
   "metadata": {},
   "outputs": [],
   "source": [
    "from sklearn.model_selection import train_test_split\n",
    "from sklearn.feature_extraction.text import CountVectorizer\n",
    "from sklearn.feature_extraction.text import TfidfTransformer\n",
    "from sklearn.naive_bayes import MultinomialNB\n",
    "\n",
    "X_train, X_test, y_train, y_test = train_test_split(df_train['sentences'], df_train['category'], random_state = 0)\n",
    "count_vect = CountVectorizer()\n",
    "X_train_counts = count_vect.fit_transform(X_train)\n",
    "tfidf_transformer = TfidfTransformer()\n",
    "X_train_tfidf = tfidf_transformer.fit_transform(X_train_counts)\n",
    "clf = MultinomialNB().fit(X_train_tfidf, y_train)\n"
   ]
  },
  {
   "cell_type": "code",
   "execution_count": 7,
   "metadata": {},
   "outputs": [
    {
     "name": "stdout",
     "output_type": "stream",
     "text": [
      "['pet']\n"
     ]
    }
   ],
   "source": [
    "print(clf.predict(count_vect.transform([\"My cousin has two cats and one dog.\"])))"
   ]
  },
  {
   "cell_type": "code",
   "execution_count": 8,
   "metadata": {},
   "outputs": [
    {
     "name": "stdout",
     "output_type": "stream",
     "text": [
      "['software tech']\n"
     ]
    }
   ],
   "source": [
    "print(clf.predict(count_vect.transform([\n",
    "    \"I have transfered from Pasadena city College to University of California, Riverside.\"])))"
   ]
  },
  {
   "cell_type": "code",
   "execution_count": 9,
   "metadata": {},
   "outputs": [
    {
     "name": "stdout",
     "output_type": "stream",
     "text": [
      "['fashion beauty']\n"
     ]
    }
   ],
   "source": [
    "print(clf.predict(count_vect.transform([\"I am hungry, so I am going to buy something to eat.\"])))"
   ]
  },
  {
   "cell_type": "code",
   "execution_count": 10,
   "metadata": {},
   "outputs": [
    {
     "name": "stdout",
     "output_type": "stream",
     "text": [
      "['consumer']\n"
     ]
    }
   ],
   "source": [
    "print(clf.predict(count_vect.transform([\"\"])))"
   ]
  },
  {
   "cell_type": "code",
   "execution_count": 11,
   "metadata": {},
   "outputs": [],
   "source": [
    "Y_pred = clf.predict(count_vect.transform(X_test))"
   ]
  },
  {
   "cell_type": "code",
   "execution_count": 12,
   "metadata": {},
   "outputs": [],
   "source": [
    "Y_pred_self = clf.predict(X_train_tfidf)"
   ]
  },
  {
   "cell_type": "code",
   "execution_count": 13,
   "metadata": {},
   "outputs": [
    {
     "data": {
      "text/plain": [
       "0.15139199349725665"
      ]
     },
     "execution_count": 13,
     "metadata": {},
     "output_type": "execute_result"
    }
   ],
   "source": [
    "from sklearn.metrics import accuracy_score\n",
    "accuracy_score(y_test,Y_pred)"
   ]
  },
  {
   "cell_type": "code",
   "execution_count": null,
   "metadata": {},
   "outputs": [],
   "source": []
  }
 ],
 "metadata": {
  "kernelspec": {
   "display_name": "Python 3",
   "language": "python",
   "name": "python3"
  },
  "language_info": {
   "codemirror_mode": {
    "name": "ipython",
    "version": 3
   },
   "file_extension": ".py",
   "mimetype": "text/x-python",
   "name": "python",
   "nbconvert_exporter": "python",
   "pygments_lexer": "ipython3",
   "version": "3.6.8"
  }
 },
 "nbformat": 4,
 "nbformat_minor": 4
}
