{
 "cells": [
  {
   "cell_type": "markdown",
   "metadata": {},
   "source": [
    "# Project Phase 2 - Data Cleaning and EDA"
   ]
  },
  {
   "cell_type": "code",
   "execution_count": 42,
   "metadata": {},
   "outputs": [],
   "source": [
    "# import tensorflow as tf\n",
    "# import tensorflow_hub as hub\n",
    "import pandas as pd\n",
    "import numpy as np\n",
    "import re\n",
    "import os\n",
    "from nltk import tokenize"
   ]
  },
  {
   "cell_type": "code",
   "execution_count": null,
   "metadata": {},
   "outputs": [],
   "source": [
    "# embed = hub.load(\"https://tfhub.dev/google/universal-sentence-encoder/4\")"
   ]
  },
  {
   "cell_type": "code",
   "execution_count": 53,
   "metadata": {},
   "outputs": [
    {
     "data": {
      "text/plain": [
       "['fitness sports.json',\n",
       " 'media enterainment.json',\n",
       " 'pet.json',\n",
       " 'lifecycle home.json',\n",
       " 'software tech.json',\n",
       " 'business.json',\n",
       " 'children education.json',\n",
       " 'fashion beauty.json',\n",
       " 'food beverage.json',\n",
       " 'green cleantech.json',\n",
       " 'consumer.json',\n",
       " 'healthcare.json']"
      ]
     },
     "execution_count": 53,
     "metadata": {},
     "output_type": "execute_result"
    }
   ],
   "source": [
    "# load all resource files\n",
    "path = 'dcbox resource/'\n",
    "dest_path = 'dcbox csv resource/'\n",
    "dirs = os.listdir(path)\n",
    "dirs.remove('.ipynb_checkpoints')\n",
    "dirs"
   ]
  },
  {
   "cell_type": "code",
   "execution_count": 54,
   "metadata": {},
   "outputs": [],
   "source": [
    "# Load paragraph body only\n",
    "for file in dirs:\n",
    "    body_df = pd.read_json(path + file).body\n",
    "    sentences = []\n",
    "    for single_sentence in body_df:\n",
    "        if \"        \" in single_sentence:\n",
    "            single_sentence = single_sentence[single_sentence.find('        ')+len('        '):]\n",
    "        single_sentence = re.sub(r'&[^;]*;', '', single_sentence)\n",
    "        single_sentence = single_sentence.replace('|', '')\n",
    "        single_sentence = single_sentence.replace('? ?', '')\n",
    "        single_sentence = single_sentence.replace('? ?', '')\n",
    "        for each in tokenize.sent_tokenize(single_sentence)[:-2]:\n",
    "            if len(each) > 20:\n",
    "                sentences.append(each)\n",
    "    sentences_df = pd.DataFrame(sentences, columns=['sentences'])\n",
    "    sentences_df.to_csv(dest_path + file + \".csv\", index=False)"
   ]
  },
  {
   "cell_type": "markdown",
   "metadata": {},
   "source": []
  },
  {
   "cell_type": "code",
   "execution_count": null,
   "metadata": {},
   "outputs": [],
   "source": []
  }
 ],
 "metadata": {
  "kernelspec": {
   "display_name": "Python 3",
   "language": "python",
   "name": "python3"
  },
  "language_info": {
   "codemirror_mode": {
    "name": "ipython",
    "version": 3
   },
   "file_extension": ".py",
   "mimetype": "text/x-python",
   "name": "python",
   "nbconvert_exporter": "python",
   "pygments_lexer": "ipython3",
   "version": "3.6.8"
  }
 },
 "nbformat": 4,
 "nbformat_minor": 4
}
