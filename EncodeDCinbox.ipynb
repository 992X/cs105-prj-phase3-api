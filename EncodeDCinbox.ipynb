{
 "cells": [
  {
   "cell_type": "code",
   "execution_count": 5,
   "metadata": {},
   "outputs": [
    {
     "name": "stderr",
     "output_type": "stream",
     "text": [
      "/home/csmajs/jxie031/.local/lib/python3.6/site-packages/tensorflow/python/framework/dtypes.py:516: FutureWarning: Passing (type, 1) or '1type' as a synonym of type is deprecated; in a future version of numpy, it will be understood as (type, (1,)) / '(1,)type'.\n",
      "  _np_qint8 = np.dtype([(\"qint8\", np.int8, 1)])\n",
      "/home/csmajs/jxie031/.local/lib/python3.6/site-packages/tensorflow/python/framework/dtypes.py:517: FutureWarning: Passing (type, 1) or '1type' as a synonym of type is deprecated; in a future version of numpy, it will be understood as (type, (1,)) / '(1,)type'.\n",
      "  _np_quint8 = np.dtype([(\"quint8\", np.uint8, 1)])\n",
      "/home/csmajs/jxie031/.local/lib/python3.6/site-packages/tensorflow/python/framework/dtypes.py:518: FutureWarning: Passing (type, 1) or '1type' as a synonym of type is deprecated; in a future version of numpy, it will be understood as (type, (1,)) / '(1,)type'.\n",
      "  _np_qint16 = np.dtype([(\"qint16\", np.int16, 1)])\n",
      "/home/csmajs/jxie031/.local/lib/python3.6/site-packages/tensorflow/python/framework/dtypes.py:519: FutureWarning: Passing (type, 1) or '1type' as a synonym of type is deprecated; in a future version of numpy, it will be understood as (type, (1,)) / '(1,)type'.\n",
      "  _np_quint16 = np.dtype([(\"quint16\", np.uint16, 1)])\n",
      "/home/csmajs/jxie031/.local/lib/python3.6/site-packages/tensorflow/python/framework/dtypes.py:520: FutureWarning: Passing (type, 1) or '1type' as a synonym of type is deprecated; in a future version of numpy, it will be understood as (type, (1,)) / '(1,)type'.\n",
      "  _np_qint32 = np.dtype([(\"qint32\", np.int32, 1)])\n",
      "/home/csmajs/jxie031/.local/lib/python3.6/site-packages/tensorflow/python/framework/dtypes.py:525: FutureWarning: Passing (type, 1) or '1type' as a synonym of type is deprecated; in a future version of numpy, it will be understood as (type, (1,)) / '(1,)type'.\n",
      "  np_resource = np.dtype([(\"resource\", np.ubyte, 1)])\n",
      "/home/csmajs/jxie031/.local/lib/python3.6/site-packages/tensorboard/compat/tensorflow_stub/dtypes.py:541: FutureWarning: Passing (type, 1) or '1type' as a synonym of type is deprecated; in a future version of numpy, it will be understood as (type, (1,)) / '(1,)type'.\n",
      "  _np_qint8 = np.dtype([(\"qint8\", np.int8, 1)])\n",
      "/home/csmajs/jxie031/.local/lib/python3.6/site-packages/tensorboard/compat/tensorflow_stub/dtypes.py:542: FutureWarning: Passing (type, 1) or '1type' as a synonym of type is deprecated; in a future version of numpy, it will be understood as (type, (1,)) / '(1,)type'.\n",
      "  _np_quint8 = np.dtype([(\"quint8\", np.uint8, 1)])\n",
      "/home/csmajs/jxie031/.local/lib/python3.6/site-packages/tensorboard/compat/tensorflow_stub/dtypes.py:543: FutureWarning: Passing (type, 1) or '1type' as a synonym of type is deprecated; in a future version of numpy, it will be understood as (type, (1,)) / '(1,)type'.\n",
      "  _np_qint16 = np.dtype([(\"qint16\", np.int16, 1)])\n",
      "/home/csmajs/jxie031/.local/lib/python3.6/site-packages/tensorboard/compat/tensorflow_stub/dtypes.py:544: FutureWarning: Passing (type, 1) or '1type' as a synonym of type is deprecated; in a future version of numpy, it will be understood as (type, (1,)) / '(1,)type'.\n",
      "  _np_quint16 = np.dtype([(\"quint16\", np.uint16, 1)])\n",
      "/home/csmajs/jxie031/.local/lib/python3.6/site-packages/tensorboard/compat/tensorflow_stub/dtypes.py:545: FutureWarning: Passing (type, 1) or '1type' as a synonym of type is deprecated; in a future version of numpy, it will be understood as (type, (1,)) / '(1,)type'.\n",
      "  _np_qint32 = np.dtype([(\"qint32\", np.int32, 1)])\n",
      "/home/csmajs/jxie031/.local/lib/python3.6/site-packages/tensorboard/compat/tensorflow_stub/dtypes.py:550: FutureWarning: Passing (type, 1) or '1type' as a synonym of type is deprecated; in a future version of numpy, it will be understood as (type, (1,)) / '(1,)type'.\n",
      "  np_resource = np.dtype([(\"resource\", np.ubyte, 1)])\n"
     ]
    }
   ],
   "source": [
    "import tensorflow as tf\n",
    "import tensorflow_hub as hub\n",
    "import numpy as np\n",
    "import json\n",
    "import pandas as pd\n",
    "import os"
   ]
  },
  {
   "cell_type": "code",
   "execution_count": 2,
   "metadata": {},
   "outputs": [],
   "source": [
    "embed = hub.load(\"https://tfhub.dev/google/universal-sentence-encoder/4\")"
   ]
  },
  {
   "cell_type": "code",
   "execution_count": 6,
   "metadata": {},
   "outputs": [
    {
     "data": {
      "text/plain": [
       "['healthcare.json.csv',\n",
       " 'pet.json.csv',\n",
       " 'business.json.csv',\n",
       " 'fashion beauty.json.csv',\n",
       " 'fitness sports.json.csv',\n",
       " 'food beverage.json.csv',\n",
       " 'media enterainment.json.csv',\n",
       " 'lifecycle home.json.csv',\n",
       " 'consumer.json.csv',\n",
       " 'green cleantech.json.csv',\n",
       " 'children education.json.csv',\n",
       " 'software tech.json.csv']"
      ]
     },
     "execution_count": 6,
     "metadata": {},
     "output_type": "execute_result"
    }
   ],
   "source": [
    "# load all resource files\n",
    "path = 'cleanedDCinboxResource/'\n",
    "dest_path = 'encodedDCinboxResource/'\n",
    "dirs = os.listdir(path)\n",
    "dirs"
   ]
  },
  {
   "cell_type": "code",
   "execution_count": 4,
   "metadata": {},
   "outputs": [
    {
     "data": {
      "text/html": [
       "<div>\n",
       "<style scoped>\n",
       "    .dataframe tbody tr th:only-of-type {\n",
       "        vertical-align: middle;\n",
       "    }\n",
       "\n",
       "    .dataframe tbody tr th {\n",
       "        vertical-align: top;\n",
       "    }\n",
       "\n",
       "    .dataframe thead th {\n",
       "        text-align: right;\n",
       "    }\n",
       "</style>\n",
       "<table border=\"1\" class=\"dataframe\">\n",
       "  <thead>\n",
       "    <tr style=\"text-align: right;\">\n",
       "      <th></th>\n",
       "      <th>sentences</th>\n",
       "    </tr>\n",
       "  </thead>\n",
       "  <tbody>\n",
       "    <tr>\n",
       "      <th>0</th>\n",
       "      <td>Congressman Carol Miller ?</td>\n",
       "    </tr>\n",
       "    <tr>\n",
       "      <th>1</th>\n",
       "      <td>Dear Friend, Happy Presidents' Day weekend!</td>\n",
       "    </tr>\n",
       "    <tr>\n",
       "      <th>2</th>\n",
       "      <td>On this day we honor all that our Presidents h...</td>\n",
       "    </tr>\n",
       "    <tr>\n",
       "      <th>3</th>\n",
       "      <td>This week was filled with many exciting develo...</td>\n",
       "    </tr>\n",
       "    <tr>\n",
       "      <th>4</th>\n",
       "      <td>I introduced legislation to fill the remaining...</td>\n",
       "    </tr>\n",
       "  </tbody>\n",
       "</table>\n",
       "</div>"
      ],
      "text/plain": [
       "                                           sentences\n",
       "0                         Congressman Carol Miller ?\n",
       "1        Dear Friend, Happy Presidents' Day weekend!\n",
       "2  On this day we honor all that our Presidents h...\n",
       "3  This week was filled with many exciting develo...\n",
       "4  I introduced legislation to fill the remaining..."
      ]
     },
     "execution_count": 4,
     "metadata": {},
     "output_type": "execute_result"
    }
   ],
   "source": [
    "# load the csv data into the dataframe\n",
    "df_dict = {}\n",
    "for file in dirs:\n",
    "    df_dict[file] = pd.read_csv(path + file)\n",
    "    \n",
    "# test if the data be read or not\n",
    "df_dict['healthcare.json.csv'].head()"
   ]
  },
  {
   "cell_type": "code",
   "execution_count": 5,
   "metadata": {},
   "outputs": [
    {
     "name": "stdout",
     "output_type": "stream",
     "text": [
      "['Congressman Carol Miller ?'\n",
      " \"Dear Friend, Happy Presidents' Day weekend!\"\n",
      " 'On this day we honor all that our Presidents have done to lead our nation into the prosperous and powerful one it is today.'\n",
      " ...\n",
      " 'There would never be enough time in the world to fully encapsulate what he meant to me and the people of Michigans Thirteenth Congressional District, but please watch my full address in honor of his tremendous legacy and know that it is that tremendous legacy that fuels my work on your behalf every single day.'\n",
      " 'My sincere condolences go out to his family, friends, and loved ones.'\n",
      " 'May Congressman Conyers rest in peace as we continue his fight for jobs, justice, and peace.']\n"
     ]
    }
   ],
   "source": [
    "print(df_dict['healthcare.json.csv']['sentences'].to_numpy())"
   ]
  },
  {
   "cell_type": "code",
   "execution_count": 6,
   "metadata": {},
   "outputs": [],
   "source": [
    "for (key, data) in df_dict.items():\n",
    "    # data['embeded'] = embed(data['sentences'].to_numpy()).numpy()\n",
    "    data['embed'] = embed(data['sentences'].to_numpy()).numpy().tolist()"
   ]
  },
  {
   "cell_type": "code",
   "execution_count": 7,
   "metadata": {},
   "outputs": [
    {
     "data": {
      "text/html": [
       "<div>\n",
       "<style scoped>\n",
       "    .dataframe tbody tr th:only-of-type {\n",
       "        vertical-align: middle;\n",
       "    }\n",
       "\n",
       "    .dataframe tbody tr th {\n",
       "        vertical-align: top;\n",
       "    }\n",
       "\n",
       "    .dataframe thead th {\n",
       "        text-align: right;\n",
       "    }\n",
       "</style>\n",
       "<table border=\"1\" class=\"dataframe\">\n",
       "  <thead>\n",
       "    <tr style=\"text-align: right;\">\n",
       "      <th></th>\n",
       "      <th>sentences</th>\n",
       "      <th>embed</th>\n",
       "    </tr>\n",
       "  </thead>\n",
       "  <tbody>\n",
       "    <tr>\n",
       "      <th>0</th>\n",
       "      <td>Congressman Carol Miller ?</td>\n",
       "      <td>[0.05492091551423073, 0.023301545530557632, 0....</td>\n",
       "    </tr>\n",
       "    <tr>\n",
       "      <th>1</th>\n",
       "      <td>Dear Friend, Happy Presidents' Day weekend!</td>\n",
       "      <td>[-0.03798495605587959, -0.06996205449104309, 0...</td>\n",
       "    </tr>\n",
       "    <tr>\n",
       "      <th>2</th>\n",
       "      <td>On this day we honor all that our Presidents h...</td>\n",
       "      <td>[-0.06237169727683067, -0.08522521704435349, 0...</td>\n",
       "    </tr>\n",
       "    <tr>\n",
       "      <th>3</th>\n",
       "      <td>This week was filled with many exciting develo...</td>\n",
       "      <td>[-0.04813029244542122, -0.04647025093436241, -...</td>\n",
       "    </tr>\n",
       "    <tr>\n",
       "      <th>4</th>\n",
       "      <td>I introduced legislation to fill the remaining...</td>\n",
       "      <td>[-0.04485123232007027, -0.07864920049905777, -...</td>\n",
       "    </tr>\n",
       "  </tbody>\n",
       "</table>\n",
       "</div>"
      ],
      "text/plain": [
       "                                           sentences  \\\n",
       "0                         Congressman Carol Miller ?   \n",
       "1        Dear Friend, Happy Presidents' Day weekend!   \n",
       "2  On this day we honor all that our Presidents h...   \n",
       "3  This week was filled with many exciting develo...   \n",
       "4  I introduced legislation to fill the remaining...   \n",
       "\n",
       "                                               embed  \n",
       "0  [0.05492091551423073, 0.023301545530557632, 0....  \n",
       "1  [-0.03798495605587959, -0.06996205449104309, 0...  \n",
       "2  [-0.06237169727683067, -0.08522521704435349, 0...  \n",
       "3  [-0.04813029244542122, -0.04647025093436241, -...  \n",
       "4  [-0.04485123232007027, -0.07864920049905777, -...  "
      ]
     },
     "execution_count": 7,
     "metadata": {},
     "output_type": "execute_result"
    }
   ],
   "source": [
    "df_dict['healthcare.json.csv'].head()"
   ]
  },
  {
   "cell_type": "code",
   "execution_count": 8,
   "metadata": {},
   "outputs": [],
   "source": [
    "for (key, data) in df_dict.items():\n",
    "    data.to_csv(dest_path + key , index=False)"
   ]
  },
  {
   "cell_type": "code",
   "execution_count": 9,
   "metadata": {},
   "outputs": [],
   "source": [
    "frames = []\n",
    "for (key, data) in df_dict.items():\n",
    "    data['topic'] = key.replace('.json.csv','')\n",
    "    frames.append(data)\n",
    "\n",
    "df = pd.concat(frames)\n"
   ]
  },
  {
   "cell_type": "code",
   "execution_count": 10,
   "metadata": {},
   "outputs": [
    {
     "data": {
      "text/html": [
       "<div>\n",
       "<style scoped>\n",
       "    .dataframe tbody tr th:only-of-type {\n",
       "        vertical-align: middle;\n",
       "    }\n",
       "\n",
       "    .dataframe tbody tr th {\n",
       "        vertical-align: top;\n",
       "    }\n",
       "\n",
       "    .dataframe thead th {\n",
       "        text-align: right;\n",
       "    }\n",
       "</style>\n",
       "<table border=\"1\" class=\"dataframe\">\n",
       "  <thead>\n",
       "    <tr style=\"text-align: right;\">\n",
       "      <th></th>\n",
       "      <th>sentences</th>\n",
       "      <th>embed</th>\n",
       "      <th>topic</th>\n",
       "    </tr>\n",
       "  </thead>\n",
       "  <tbody>\n",
       "    <tr>\n",
       "      <th>0</th>\n",
       "      <td>Congressman Carol Miller ?</td>\n",
       "      <td>[0.05492091551423073, 0.023301545530557632, 0....</td>\n",
       "      <td>healthcare</td>\n",
       "    </tr>\n",
       "    <tr>\n",
       "      <th>1</th>\n",
       "      <td>Dear Friend, Happy Presidents' Day weekend!</td>\n",
       "      <td>[-0.03798495605587959, -0.06996205449104309, 0...</td>\n",
       "      <td>healthcare</td>\n",
       "    </tr>\n",
       "    <tr>\n",
       "      <th>2</th>\n",
       "      <td>On this day we honor all that our Presidents h...</td>\n",
       "      <td>[-0.06237169727683067, -0.08522521704435349, 0...</td>\n",
       "      <td>healthcare</td>\n",
       "    </tr>\n",
       "    <tr>\n",
       "      <th>3</th>\n",
       "      <td>This week was filled with many exciting develo...</td>\n",
       "      <td>[-0.04813029244542122, -0.04647025093436241, -...</td>\n",
       "      <td>healthcare</td>\n",
       "    </tr>\n",
       "    <tr>\n",
       "      <th>4</th>\n",
       "      <td>I introduced legislation to fill the remaining...</td>\n",
       "      <td>[-0.04485123232007027, -0.07864920049905777, -...</td>\n",
       "      <td>healthcare</td>\n",
       "    </tr>\n",
       "  </tbody>\n",
       "</table>\n",
       "</div>"
      ],
      "text/plain": [
       "                                           sentences  \\\n",
       "0                         Congressman Carol Miller ?   \n",
       "1        Dear Friend, Happy Presidents' Day weekend!   \n",
       "2  On this day we honor all that our Presidents h...   \n",
       "3  This week was filled with many exciting develo...   \n",
       "4  I introduced legislation to fill the remaining...   \n",
       "\n",
       "                                               embed       topic  \n",
       "0  [0.05492091551423073, 0.023301545530557632, 0....  healthcare  \n",
       "1  [-0.03798495605587959, -0.06996205449104309, 0...  healthcare  \n",
       "2  [-0.06237169727683067, -0.08522521704435349, 0...  healthcare  \n",
       "3  [-0.04813029244542122, -0.04647025093436241, -...  healthcare  \n",
       "4  [-0.04485123232007027, -0.07864920049905777, -...  healthcare  "
      ]
     },
     "execution_count": 10,
     "metadata": {},
     "output_type": "execute_result"
    }
   ],
   "source": [
    "df.head()"
   ]
  },
  {
   "cell_type": "code",
   "execution_count": 11,
   "metadata": {},
   "outputs": [
    {
     "data": {
      "text/html": [
       "<div>\n",
       "<style scoped>\n",
       "    .dataframe tbody tr th:only-of-type {\n",
       "        vertical-align: middle;\n",
       "    }\n",
       "\n",
       "    .dataframe tbody tr th {\n",
       "        vertical-align: top;\n",
       "    }\n",
       "\n",
       "    .dataframe thead th {\n",
       "        text-align: right;\n",
       "    }\n",
       "</style>\n",
       "<table border=\"1\" class=\"dataframe\">\n",
       "  <thead>\n",
       "    <tr style=\"text-align: right;\">\n",
       "      <th></th>\n",
       "      <th>sentences</th>\n",
       "      <th>embed</th>\n",
       "      <th>topic</th>\n",
       "    </tr>\n",
       "  </thead>\n",
       "  <tbody>\n",
       "    <tr>\n",
       "      <th>3660</th>\n",
       "      <td>The company has a wide range of involvement in...</td>\n",
       "      <td>[0.02320779860019684, 0.06694994866847992, 0.0...</td>\n",
       "      <td>software tech</td>\n",
       "    </tr>\n",
       "    <tr>\n",
       "      <th>3661</th>\n",
       "      <td>Treeline is a prime example of how the forest ...</td>\n",
       "      <td>[0.02034887485206127, 0.02548053488135338, 0.0...</td>\n",
       "      <td>software tech</td>\n",
       "    </tr>\n",
       "    <tr>\n",
       "      <th>3662</th>\n",
       "      <td>Through sustainable and responsible forest man...</td>\n",
       "      <td>[-0.021101249381899834, 0.05313967540860176, -...</td>\n",
       "      <td>software tech</td>\n",
       "    </tr>\n",
       "    <tr>\n",
       "      <th>3663</th>\n",
       "      <td>I had a great discussion with Brian about the ...</td>\n",
       "      <td>[-0.047962334007024765, -0.06889202445745468, ...</td>\n",
       "      <td>software tech</td>\n",
       "    </tr>\n",
       "    <tr>\n",
       "      <th>3664</th>\n",
       "      <td>Click HERE to learn more.</td>\n",
       "      <td>[-0.07666020095348358, -0.08758419752120972, 0...</td>\n",
       "      <td>software tech</td>\n",
       "    </tr>\n",
       "  </tbody>\n",
       "</table>\n",
       "</div>"
      ],
      "text/plain": [
       "                                              sentences  \\\n",
       "3660  The company has a wide range of involvement in...   \n",
       "3661  Treeline is a prime example of how the forest ...   \n",
       "3662  Through sustainable and responsible forest man...   \n",
       "3663  I had a great discussion with Brian about the ...   \n",
       "3664                          Click HERE to learn more.   \n",
       "\n",
       "                                                  embed          topic  \n",
       "3660  [0.02320779860019684, 0.06694994866847992, 0.0...  software tech  \n",
       "3661  [0.02034887485206127, 0.02548053488135338, 0.0...  software tech  \n",
       "3662  [-0.021101249381899834, 0.05313967540860176, -...  software tech  \n",
       "3663  [-0.047962334007024765, -0.06889202445745468, ...  software tech  \n",
       "3664  [-0.07666020095348358, -0.08758419752120972, 0...  software tech  "
      ]
     },
     "execution_count": 11,
     "metadata": {},
     "output_type": "execute_result"
    }
   ],
   "source": [
    "df.tail()"
   ]
  },
  {
   "cell_type": "markdown",
   "metadata": {},
   "source": [
    "### transform the topic to specific number"
   ]
  },
  {
   "cell_type": "code",
   "execution_count": 29,
   "metadata": {},
   "outputs": [
    {
     "data": {
      "text/plain": [
       "{'healthcare': 0,\n",
       " 'pet': 1,\n",
       " 'business': 2,\n",
       " 'fashion beauty': 3,\n",
       " 'fitness sports': 4,\n",
       " 'food beverage': 5,\n",
       " 'media enterainment': 6,\n",
       " 'lifecycle home': 7,\n",
       " 'consumer': 8,\n",
       " 'green cleantech': 9,\n",
       " 'children education': 10,\n",
       " 'software tech': 11}"
      ]
     },
     "execution_count": 29,
     "metadata": {},
     "output_type": "execute_result"
    }
   ],
   "source": [
    "topics = map(lambda x: x.replace('.json.csv',''), dirs) \n",
    "topics = list(topics)\n",
    "topics_df = pd.DataFrame(topics)\n",
    "topics_index = list(topics_df.index)\n",
    "topics_index\n",
    "\n",
    "topic_dict = dict(zip(topics, topics_index))\n",
    "topic_dict"
   ]
  },
  {
   "cell_type": "markdown",
   "metadata": {},
   "source": [
    "### Generate X_train"
   ]
  },
  {
   "cell_type": "code",
   "execution_count": 18,
   "metadata": {},
   "outputs": [
    {
     "data": {
      "text/html": [
       "<div>\n",
       "<style scoped>\n",
       "    .dataframe tbody tr th:only-of-type {\n",
       "        vertical-align: middle;\n",
       "    }\n",
       "\n",
       "    .dataframe tbody tr th {\n",
       "        vertical-align: top;\n",
       "    }\n",
       "\n",
       "    .dataframe thead th {\n",
       "        text-align: right;\n",
       "    }\n",
       "</style>\n",
       "<table border=\"1\" class=\"dataframe\">\n",
       "  <thead>\n",
       "    <tr style=\"text-align: right;\">\n",
       "      <th></th>\n",
       "      <th>0</th>\n",
       "      <th>1</th>\n",
       "      <th>2</th>\n",
       "      <th>3</th>\n",
       "      <th>4</th>\n",
       "      <th>5</th>\n",
       "      <th>6</th>\n",
       "      <th>7</th>\n",
       "      <th>8</th>\n",
       "      <th>9</th>\n",
       "      <th>...</th>\n",
       "      <th>502</th>\n",
       "      <th>503</th>\n",
       "      <th>504</th>\n",
       "      <th>505</th>\n",
       "      <th>506</th>\n",
       "      <th>507</th>\n",
       "      <th>508</th>\n",
       "      <th>509</th>\n",
       "      <th>510</th>\n",
       "      <th>511</th>\n",
       "    </tr>\n",
       "  </thead>\n",
       "  <tbody>\n",
       "    <tr>\n",
       "      <th>0</th>\n",
       "      <td>0.054921</td>\n",
       "      <td>0.023302</td>\n",
       "      <td>0.020982</td>\n",
       "      <td>-0.026948</td>\n",
       "      <td>-0.023186</td>\n",
       "      <td>-0.065200</td>\n",
       "      <td>-0.058983</td>\n",
       "      <td>-0.035443</td>\n",
       "      <td>0.048876</td>\n",
       "      <td>-0.046086</td>\n",
       "      <td>...</td>\n",
       "      <td>-0.006283</td>\n",
       "      <td>-0.028407</td>\n",
       "      <td>0.003497</td>\n",
       "      <td>-0.021077</td>\n",
       "      <td>-0.052233</td>\n",
       "      <td>-0.006062</td>\n",
       "      <td>-0.033835</td>\n",
       "      <td>0.056937</td>\n",
       "      <td>0.031446</td>\n",
       "      <td>0.074664</td>\n",
       "    </tr>\n",
       "    <tr>\n",
       "      <th>1</th>\n",
       "      <td>-0.037985</td>\n",
       "      <td>-0.069962</td>\n",
       "      <td>0.037102</td>\n",
       "      <td>0.048221</td>\n",
       "      <td>0.053405</td>\n",
       "      <td>0.058545</td>\n",
       "      <td>-0.050000</td>\n",
       "      <td>-0.013386</td>\n",
       "      <td>-0.034736</td>\n",
       "      <td>-0.045103</td>\n",
       "      <td>...</td>\n",
       "      <td>0.001811</td>\n",
       "      <td>0.020552</td>\n",
       "      <td>0.066109</td>\n",
       "      <td>0.010746</td>\n",
       "      <td>-0.039018</td>\n",
       "      <td>-0.012361</td>\n",
       "      <td>0.022109</td>\n",
       "      <td>-0.010583</td>\n",
       "      <td>-0.054189</td>\n",
       "      <td>0.020036</td>\n",
       "    </tr>\n",
       "    <tr>\n",
       "      <th>2</th>\n",
       "      <td>-0.062372</td>\n",
       "      <td>-0.085225</td>\n",
       "      <td>0.038230</td>\n",
       "      <td>0.006329</td>\n",
       "      <td>-0.008876</td>\n",
       "      <td>0.073339</td>\n",
       "      <td>0.016989</td>\n",
       "      <td>-0.016803</td>\n",
       "      <td>-0.003109</td>\n",
       "      <td>0.001256</td>\n",
       "      <td>...</td>\n",
       "      <td>0.006282</td>\n",
       "      <td>-0.033230</td>\n",
       "      <td>0.001216</td>\n",
       "      <td>-0.035546</td>\n",
       "      <td>0.016305</td>\n",
       "      <td>-0.069788</td>\n",
       "      <td>-0.025516</td>\n",
       "      <td>-0.056390</td>\n",
       "      <td>-0.004127</td>\n",
       "      <td>0.027242</td>\n",
       "    </tr>\n",
       "    <tr>\n",
       "      <th>3</th>\n",
       "      <td>-0.048130</td>\n",
       "      <td>-0.046470</td>\n",
       "      <td>-0.015697</td>\n",
       "      <td>-0.013564</td>\n",
       "      <td>-0.095009</td>\n",
       "      <td>0.039518</td>\n",
       "      <td>0.052138</td>\n",
       "      <td>-0.023493</td>\n",
       "      <td>-0.004937</td>\n",
       "      <td>-0.018788</td>\n",
       "      <td>...</td>\n",
       "      <td>0.075226</td>\n",
       "      <td>0.078493</td>\n",
       "      <td>0.040549</td>\n",
       "      <td>-0.002126</td>\n",
       "      <td>0.020539</td>\n",
       "      <td>-0.067325</td>\n",
       "      <td>-0.006475</td>\n",
       "      <td>-0.041448</td>\n",
       "      <td>-0.033357</td>\n",
       "      <td>0.042049</td>\n",
       "    </tr>\n",
       "    <tr>\n",
       "      <th>4</th>\n",
       "      <td>-0.044851</td>\n",
       "      <td>-0.078649</td>\n",
       "      <td>-0.023230</td>\n",
       "      <td>-0.033329</td>\n",
       "      <td>-0.024911</td>\n",
       "      <td>-0.073252</td>\n",
       "      <td>-0.021818</td>\n",
       "      <td>-0.016139</td>\n",
       "      <td>-0.032433</td>\n",
       "      <td>-0.080862</td>\n",
       "      <td>...</td>\n",
       "      <td>0.015235</td>\n",
       "      <td>-0.041002</td>\n",
       "      <td>0.026818</td>\n",
       "      <td>-0.065467</td>\n",
       "      <td>0.016234</td>\n",
       "      <td>0.016308</td>\n",
       "      <td>0.038927</td>\n",
       "      <td>-0.000463</td>\n",
       "      <td>-0.031922</td>\n",
       "      <td>0.050660</td>\n",
       "    </tr>\n",
       "    <tr>\n",
       "      <th>...</th>\n",
       "      <td>...</td>\n",
       "      <td>...</td>\n",
       "      <td>...</td>\n",
       "      <td>...</td>\n",
       "      <td>...</td>\n",
       "      <td>...</td>\n",
       "      <td>...</td>\n",
       "      <td>...</td>\n",
       "      <td>...</td>\n",
       "      <td>...</td>\n",
       "      <td>...</td>\n",
       "      <td>...</td>\n",
       "      <td>...</td>\n",
       "      <td>...</td>\n",
       "      <td>...</td>\n",
       "      <td>...</td>\n",
       "      <td>...</td>\n",
       "      <td>...</td>\n",
       "      <td>...</td>\n",
       "      <td>...</td>\n",
       "      <td>...</td>\n",
       "    </tr>\n",
       "    <tr>\n",
       "      <th>45688</th>\n",
       "      <td>0.023208</td>\n",
       "      <td>0.066950</td>\n",
       "      <td>0.002083</td>\n",
       "      <td>-0.033706</td>\n",
       "      <td>0.027408</td>\n",
       "      <td>-0.083156</td>\n",
       "      <td>-0.018206</td>\n",
       "      <td>-0.035894</td>\n",
       "      <td>0.069844</td>\n",
       "      <td>-0.007374</td>\n",
       "      <td>...</td>\n",
       "      <td>0.007152</td>\n",
       "      <td>-0.049285</td>\n",
       "      <td>0.004002</td>\n",
       "      <td>0.003757</td>\n",
       "      <td>-0.085870</td>\n",
       "      <td>-0.053907</td>\n",
       "      <td>0.021028</td>\n",
       "      <td>-0.006023</td>\n",
       "      <td>0.058470</td>\n",
       "      <td>0.010841</td>\n",
       "    </tr>\n",
       "    <tr>\n",
       "      <th>45689</th>\n",
       "      <td>0.020349</td>\n",
       "      <td>0.025481</td>\n",
       "      <td>0.055837</td>\n",
       "      <td>0.065053</td>\n",
       "      <td>0.028759</td>\n",
       "      <td>-0.062801</td>\n",
       "      <td>0.001884</td>\n",
       "      <td>-0.045562</td>\n",
       "      <td>0.055871</td>\n",
       "      <td>0.016935</td>\n",
       "      <td>...</td>\n",
       "      <td>0.018313</td>\n",
       "      <td>-0.000405</td>\n",
       "      <td>-0.061381</td>\n",
       "      <td>0.044287</td>\n",
       "      <td>-0.000373</td>\n",
       "      <td>-0.040991</td>\n",
       "      <td>0.030439</td>\n",
       "      <td>-0.016256</td>\n",
       "      <td>0.032974</td>\n",
       "      <td>0.040542</td>\n",
       "    </tr>\n",
       "    <tr>\n",
       "      <th>45690</th>\n",
       "      <td>-0.021101</td>\n",
       "      <td>0.053140</td>\n",
       "      <td>-0.007118</td>\n",
       "      <td>-0.037430</td>\n",
       "      <td>0.062071</td>\n",
       "      <td>-0.062945</td>\n",
       "      <td>0.072324</td>\n",
       "      <td>-0.075389</td>\n",
       "      <td>0.030979</td>\n",
       "      <td>-0.051241</td>\n",
       "      <td>...</td>\n",
       "      <td>-0.010869</td>\n",
       "      <td>0.002352</td>\n",
       "      <td>-0.020928</td>\n",
       "      <td>-0.035992</td>\n",
       "      <td>-0.071776</td>\n",
       "      <td>-0.045672</td>\n",
       "      <td>0.019251</td>\n",
       "      <td>0.006642</td>\n",
       "      <td>0.014855</td>\n",
       "      <td>0.079571</td>\n",
       "    </tr>\n",
       "    <tr>\n",
       "      <th>45691</th>\n",
       "      <td>-0.047962</td>\n",
       "      <td>-0.068892</td>\n",
       "      <td>0.051299</td>\n",
       "      <td>0.018923</td>\n",
       "      <td>-0.016479</td>\n",
       "      <td>-0.090196</td>\n",
       "      <td>-0.022615</td>\n",
       "      <td>-0.048159</td>\n",
       "      <td>0.049300</td>\n",
       "      <td>-0.058850</td>\n",
       "      <td>...</td>\n",
       "      <td>-0.073839</td>\n",
       "      <td>-0.074018</td>\n",
       "      <td>-0.066652</td>\n",
       "      <td>0.030720</td>\n",
       "      <td>-0.016924</td>\n",
       "      <td>-0.069269</td>\n",
       "      <td>0.002934</td>\n",
       "      <td>0.054469</td>\n",
       "      <td>0.015319</td>\n",
       "      <td>0.026989</td>\n",
       "    </tr>\n",
       "    <tr>\n",
       "      <th>45692</th>\n",
       "      <td>-0.076660</td>\n",
       "      <td>-0.087584</td>\n",
       "      <td>0.012152</td>\n",
       "      <td>0.032053</td>\n",
       "      <td>-0.051686</td>\n",
       "      <td>-0.043934</td>\n",
       "      <td>-0.057544</td>\n",
       "      <td>-0.001321</td>\n",
       "      <td>-0.000744</td>\n",
       "      <td>0.030410</td>\n",
       "      <td>...</td>\n",
       "      <td>0.059688</td>\n",
       "      <td>-0.090043</td>\n",
       "      <td>-0.038312</td>\n",
       "      <td>0.067637</td>\n",
       "      <td>0.055637</td>\n",
       "      <td>0.013642</td>\n",
       "      <td>-0.037415</td>\n",
       "      <td>-0.059824</td>\n",
       "      <td>-0.028888</td>\n",
       "      <td>-0.013939</td>\n",
       "    </tr>\n",
       "  </tbody>\n",
       "</table>\n",
       "<p>45693 rows × 512 columns</p>\n",
       "</div>"
      ],
      "text/plain": [
       "            0         1         2         3         4         5         6    \\\n",
       "0      0.054921  0.023302  0.020982 -0.026948 -0.023186 -0.065200 -0.058983   \n",
       "1     -0.037985 -0.069962  0.037102  0.048221  0.053405  0.058545 -0.050000   \n",
       "2     -0.062372 -0.085225  0.038230  0.006329 -0.008876  0.073339  0.016989   \n",
       "3     -0.048130 -0.046470 -0.015697 -0.013564 -0.095009  0.039518  0.052138   \n",
       "4     -0.044851 -0.078649 -0.023230 -0.033329 -0.024911 -0.073252 -0.021818   \n",
       "...         ...       ...       ...       ...       ...       ...       ...   \n",
       "45688  0.023208  0.066950  0.002083 -0.033706  0.027408 -0.083156 -0.018206   \n",
       "45689  0.020349  0.025481  0.055837  0.065053  0.028759 -0.062801  0.001884   \n",
       "45690 -0.021101  0.053140 -0.007118 -0.037430  0.062071 -0.062945  0.072324   \n",
       "45691 -0.047962 -0.068892  0.051299  0.018923 -0.016479 -0.090196 -0.022615   \n",
       "45692 -0.076660 -0.087584  0.012152  0.032053 -0.051686 -0.043934 -0.057544   \n",
       "\n",
       "            7         8         9    ...       502       503       504  \\\n",
       "0     -0.035443  0.048876 -0.046086  ... -0.006283 -0.028407  0.003497   \n",
       "1     -0.013386 -0.034736 -0.045103  ...  0.001811  0.020552  0.066109   \n",
       "2     -0.016803 -0.003109  0.001256  ...  0.006282 -0.033230  0.001216   \n",
       "3     -0.023493 -0.004937 -0.018788  ...  0.075226  0.078493  0.040549   \n",
       "4     -0.016139 -0.032433 -0.080862  ...  0.015235 -0.041002  0.026818   \n",
       "...         ...       ...       ...  ...       ...       ...       ...   \n",
       "45688 -0.035894  0.069844 -0.007374  ...  0.007152 -0.049285  0.004002   \n",
       "45689 -0.045562  0.055871  0.016935  ...  0.018313 -0.000405 -0.061381   \n",
       "45690 -0.075389  0.030979 -0.051241  ... -0.010869  0.002352 -0.020928   \n",
       "45691 -0.048159  0.049300 -0.058850  ... -0.073839 -0.074018 -0.066652   \n",
       "45692 -0.001321 -0.000744  0.030410  ...  0.059688 -0.090043 -0.038312   \n",
       "\n",
       "            505       506       507       508       509       510       511  \n",
       "0     -0.021077 -0.052233 -0.006062 -0.033835  0.056937  0.031446  0.074664  \n",
       "1      0.010746 -0.039018 -0.012361  0.022109 -0.010583 -0.054189  0.020036  \n",
       "2     -0.035546  0.016305 -0.069788 -0.025516 -0.056390 -0.004127  0.027242  \n",
       "3     -0.002126  0.020539 -0.067325 -0.006475 -0.041448 -0.033357  0.042049  \n",
       "4     -0.065467  0.016234  0.016308  0.038927 -0.000463 -0.031922  0.050660  \n",
       "...         ...       ...       ...       ...       ...       ...       ...  \n",
       "45688  0.003757 -0.085870 -0.053907  0.021028 -0.006023  0.058470  0.010841  \n",
       "45689  0.044287 -0.000373 -0.040991  0.030439 -0.016256  0.032974  0.040542  \n",
       "45690 -0.035992 -0.071776 -0.045672  0.019251  0.006642  0.014855  0.079571  \n",
       "45691  0.030720 -0.016924 -0.069269  0.002934  0.054469  0.015319  0.026989  \n",
       "45692  0.067637  0.055637  0.013642 -0.037415 -0.059824 -0.028888 -0.013939  \n",
       "\n",
       "[45693 rows x 512 columns]"
      ]
     },
     "execution_count": 18,
     "metadata": {},
     "output_type": "execute_result"
    }
   ],
   "source": [
    "X_train = df.copy(deep=True) # copy the dataframe \n",
    "X_train = X_train[['embed']]\n",
    "\n",
    "X_train = pd.DataFrame(X_train['embed'].tolist(), columns=range(0, 512))\n",
    "X_train"
   ]
  },
  {
   "cell_type": "code",
   "execution_count": 16,
   "metadata": {},
   "outputs": [],
   "source": [
    "X_train.to_csv('X_train.csv', index=False)"
   ]
  },
  {
   "cell_type": "markdown",
   "metadata": {},
   "source": [
    "### Generate Y_train"
   ]
  },
  {
   "cell_type": "code",
   "execution_count": 22,
   "metadata": {},
   "outputs": [],
   "source": [
    "y_train = df.copy(deep=True)\n",
    "y_train = y_train[['topic']]\n",
    "#y_train = pd.concat([y_train,pd.get_dummies(y_train['topic'],dummy_na=True)],axis=1).drop(['topic'],axis=1)\n",
    "y_train = y_train['topic'].map(topic_dict)\n",
    "y_train_numpy = y_train.to_numpy()"
   ]
  },
  {
   "cell_type": "code",
   "execution_count": 24,
   "metadata": {},
   "outputs": [
    {
     "name": "stderr",
     "output_type": "stream",
     "text": [
      "/usr/local/lib/python3.6/site-packages/ipykernel_launcher.py:1: FutureWarning: The signature of `Series.to_csv` was aligned to that of `DataFrame.to_csv`, and argument 'header' will change its default value from False to True: please pass an explicit value to suppress this warning.\n",
      "  \"\"\"Entry point for launching an IPython kernel.\n"
     ]
    }
   ],
   "source": [
    "y_train.to_csv('y_train.csv', index=False)\n",
    "from numpy import savetxt\n",
    "savetxt('y_train_numpy.csv', y_train_numpy, delimiter=',')"
   ]
  },
  {
   "cell_type": "code",
   "execution_count": 30,
   "metadata": {},
   "outputs": [],
   "source": [
    "pd.DataFrame({0: topics}).to_csv('topics.csv')"
   ]
  },
  {
   "cell_type": "markdown",
   "metadata": {},
   "source": [
    "###  Train Data usng sklearn Regression"
   ]
  },
  {
   "cell_type": "code",
   "execution_count": 15,
   "metadata": {},
   "outputs": [
    {
     "data": {
      "text/plain": [
       "SVR(C=1.0, cache_size=200, coef0=0.0, degree=3, epsilon=0.1, gamma='scale',\n",
       "    kernel='rbf', max_iter=-1, shrinking=True, tol=0.001, verbose=False)"
      ]
     },
     "execution_count": 15,
     "metadata": {},
     "output_type": "execute_result"
    }
   ],
   "source": [
    "from sklearn import svm\n",
    "clf = svm.SVR()\n",
    "clf.fit(X = X_train, y = y_train)"
   ]
  },
  {
   "cell_type": "code",
   "execution_count": 25,
   "metadata": {},
   "outputs": [],
   "source": [
    "from joblib import dump, load"
   ]
  },
  {
   "cell_type": "code",
   "execution_count": null,
   "metadata": {},
   "outputs": [],
   "source": [
    "dump(clf, 'encode.joblib') "
   ]
  },
  {
   "cell_type": "code",
   "execution_count": 27,
   "metadata": {},
   "outputs": [],
   "source": [
    "clf = load('encode.joblib')"
   ]
  },
  {
   "cell_type": "code",
   "execution_count": null,
   "metadata": {},
   "outputs": [],
   "source": [
    "Y_pridict = clf.predict(X_train)"
   ]
  },
  {
   "cell_type": "code",
   "execution_count": null,
   "metadata": {
    "jupyter": {
     "source_hidden": true
    }
   },
   "outputs": [],
   "source": []
  }
 ],
 "metadata": {
  "kernelspec": {
   "display_name": "Python 3",
   "language": "python",
   "name": "python3"
  },
  "language_info": {
   "codemirror_mode": {
    "name": "ipython",
    "version": 3
   },
   "file_extension": ".py",
   "mimetype": "text/x-python",
   "name": "python",
   "nbconvert_exporter": "python",
   "pygments_lexer": "ipython3",
   "version": "3.6.8"
  }
 },
 "nbformat": 4,
 "nbformat_minor": 4
}
