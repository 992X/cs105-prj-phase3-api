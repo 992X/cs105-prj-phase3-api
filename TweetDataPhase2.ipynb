{
 "cells": [
  {
   "cell_type": "code",
   "execution_count": 1,
   "metadata": {},
   "outputs": [
    {
     "name": "stderr",
     "output_type": "stream",
     "text": [
      "/home/csmajs/jxie031/.local/lib/python3.6/site-packages/tensorflow/python/framework/dtypes.py:516: FutureWarning: Passing (type, 1) or '1type' as a synonym of type is deprecated; in a future version of numpy, it will be understood as (type, (1,)) / '(1,)type'.\n",
      "  _np_qint8 = np.dtype([(\"qint8\", np.int8, 1)])\n",
      "/home/csmajs/jxie031/.local/lib/python3.6/site-packages/tensorflow/python/framework/dtypes.py:517: FutureWarning: Passing (type, 1) or '1type' as a synonym of type is deprecated; in a future version of numpy, it will be understood as (type, (1,)) / '(1,)type'.\n",
      "  _np_quint8 = np.dtype([(\"quint8\", np.uint8, 1)])\n",
      "/home/csmajs/jxie031/.local/lib/python3.6/site-packages/tensorflow/python/framework/dtypes.py:518: FutureWarning: Passing (type, 1) or '1type' as a synonym of type is deprecated; in a future version of numpy, it will be understood as (type, (1,)) / '(1,)type'.\n",
      "  _np_qint16 = np.dtype([(\"qint16\", np.int16, 1)])\n",
      "/home/csmajs/jxie031/.local/lib/python3.6/site-packages/tensorflow/python/framework/dtypes.py:519: FutureWarning: Passing (type, 1) or '1type' as a synonym of type is deprecated; in a future version of numpy, it will be understood as (type, (1,)) / '(1,)type'.\n",
      "  _np_quint16 = np.dtype([(\"quint16\", np.uint16, 1)])\n",
      "/home/csmajs/jxie031/.local/lib/python3.6/site-packages/tensorflow/python/framework/dtypes.py:520: FutureWarning: Passing (type, 1) or '1type' as a synonym of type is deprecated; in a future version of numpy, it will be understood as (type, (1,)) / '(1,)type'.\n",
      "  _np_qint32 = np.dtype([(\"qint32\", np.int32, 1)])\n",
      "/home/csmajs/jxie031/.local/lib/python3.6/site-packages/tensorflow/python/framework/dtypes.py:525: FutureWarning: Passing (type, 1) or '1type' as a synonym of type is deprecated; in a future version of numpy, it will be understood as (type, (1,)) / '(1,)type'.\n",
      "  np_resource = np.dtype([(\"resource\", np.ubyte, 1)])\n",
      "/home/csmajs/jxie031/.local/lib/python3.6/site-packages/tensorboard/compat/tensorflow_stub/dtypes.py:541: FutureWarning: Passing (type, 1) or '1type' as a synonym of type is deprecated; in a future version of numpy, it will be understood as (type, (1,)) / '(1,)type'.\n",
      "  _np_qint8 = np.dtype([(\"qint8\", np.int8, 1)])\n",
      "/home/csmajs/jxie031/.local/lib/python3.6/site-packages/tensorboard/compat/tensorflow_stub/dtypes.py:542: FutureWarning: Passing (type, 1) or '1type' as a synonym of type is deprecated; in a future version of numpy, it will be understood as (type, (1,)) / '(1,)type'.\n",
      "  _np_quint8 = np.dtype([(\"quint8\", np.uint8, 1)])\n",
      "/home/csmajs/jxie031/.local/lib/python3.6/site-packages/tensorboard/compat/tensorflow_stub/dtypes.py:543: FutureWarning: Passing (type, 1) or '1type' as a synonym of type is deprecated; in a future version of numpy, it will be understood as (type, (1,)) / '(1,)type'.\n",
      "  _np_qint16 = np.dtype([(\"qint16\", np.int16, 1)])\n",
      "/home/csmajs/jxie031/.local/lib/python3.6/site-packages/tensorboard/compat/tensorflow_stub/dtypes.py:544: FutureWarning: Passing (type, 1) or '1type' as a synonym of type is deprecated; in a future version of numpy, it will be understood as (type, (1,)) / '(1,)type'.\n",
      "  _np_quint16 = np.dtype([(\"quint16\", np.uint16, 1)])\n",
      "/home/csmajs/jxie031/.local/lib/python3.6/site-packages/tensorboard/compat/tensorflow_stub/dtypes.py:545: FutureWarning: Passing (type, 1) or '1type' as a synonym of type is deprecated; in a future version of numpy, it will be understood as (type, (1,)) / '(1,)type'.\n",
      "  _np_qint32 = np.dtype([(\"qint32\", np.int32, 1)])\n",
      "/home/csmajs/jxie031/.local/lib/python3.6/site-packages/tensorboard/compat/tensorflow_stub/dtypes.py:550: FutureWarning: Passing (type, 1) or '1type' as a synonym of type is deprecated; in a future version of numpy, it will be understood as (type, (1,)) / '(1,)type'.\n",
      "  np_resource = np.dtype([(\"resource\", np.ubyte, 1)])\n"
     ]
    }
   ],
   "source": [
    "import tensorflow as tf\n",
    "import tensorflow_hub as hub\n",
    "import numpy as np\n",
    "import json\n",
    "import pandas as pd"
   ]
  },
  {
   "cell_type": "markdown",
   "metadata": {},
   "source": [
    "### In here, we successfully generate the universal encoder array for each tweet content. The final data is very large because we have about 305967 tweets in total."
   ]
  },
  {
   "cell_type": "code",
   "execution_count": 2,
   "metadata": {},
   "outputs": [],
   "source": [
    "embed = hub.load(\"https://tfhub.dev/google/universal-sentence-encoder/4\")"
   ]
  },
  {
   "cell_type": "code",
   "execution_count": 3,
   "metadata": {},
   "outputs": [],
   "source": [
    "with open('twitTest.json') as f:\n",
    "  data = json.load(f)"
   ]
  },
  {
   "cell_type": "code",
   "execution_count": 4,
   "metadata": {},
   "outputs": [
    {
     "data": {
      "text/html": [
       "<div>\n",
       "<style scoped>\n",
       "    .dataframe tbody tr th:only-of-type {\n",
       "        vertical-align: middle;\n",
       "    }\n",
       "\n",
       "    .dataframe tbody tr th {\n",
       "        vertical-align: top;\n",
       "    }\n",
       "\n",
       "    .dataframe thead th {\n",
       "        text-align: right;\n",
       "    }\n",
       "</style>\n",
       "<table border=\"1\" class=\"dataframe\">\n",
       "  <thead>\n",
       "    <tr style=\"text-align: right;\">\n",
       "      <th></th>\n",
       "      <th>Senator</th>\n",
       "      <th>tweet</th>\n",
       "      <th>time</th>\n",
       "    </tr>\n",
       "  </thead>\n",
       "  <tbody>\n",
       "    <tr>\n",
       "      <th>0</th>\n",
       "      <td>SenatorLoeffler</td>\n",
       "      <td>.@Macys is expanding in Georgia!\\n\\n@gdecd ann...</td>\n",
       "      <td>2020-02-15 20:49:37</td>\n",
       "    </tr>\n",
       "    <tr>\n",
       "      <th>1</th>\n",
       "      <td>SenatorLoeffler</td>\n",
       "      <td>Our veterans &amp;amp; service members represent t...</td>\n",
       "      <td>2020-02-15 16:11:53</td>\n",
       "    </tr>\n",
       "    <tr>\n",
       "      <th>2</th>\n",
       "      <td>SenatorLoeffler</td>\n",
       "      <td>Sending some much-deserved #ValentinesDay love...</td>\n",
       "      <td>2020-02-14 22:56:40</td>\n",
       "    </tr>\n",
       "    <tr>\n",
       "      <th>3</th>\n",
       "      <td>SenatorLoeffler</td>\n",
       "      <td>Happy to work with @MarshaBlackburn on this bi...</td>\n",
       "      <td>2020-02-14 21:09:53</td>\n",
       "    </tr>\n",
       "    <tr>\n",
       "      <th>4</th>\n",
       "      <td>SenatorLoeffler</td>\n",
       "      <td>RT @SenHydeSmith: #HappyValentinesDay from the...</td>\n",
       "      <td>2020-02-14 18:40:35</td>\n",
       "    </tr>\n",
       "    <tr>\n",
       "      <th>...</th>\n",
       "      <td>...</td>\n",
       "      <td>...</td>\n",
       "      <td>...</td>\n",
       "    </tr>\n",
       "    <tr>\n",
       "      <th>305962</th>\n",
       "      <td>JohnBoozman</td>\n",
       "      <td>Happy Birthday #USNavy! Thanks for over two ce...</td>\n",
       "      <td>2016-10-13 23:22:08</td>\n",
       "    </tr>\n",
       "    <tr>\n",
       "      <th>305963</th>\n",
       "      <td>JohnBoozman</td>\n",
       "      <td>Thank you @ArFB Appreciate your efforts as we ...</td>\n",
       "      <td>2016-10-13 20:47:00</td>\n",
       "    </tr>\n",
       "    <tr>\n",
       "      <th>305964</th>\n",
       "      <td>JohnBoozman</td>\n",
       "      <td>Looking forward to highlighting the work of #A...</td>\n",
       "      <td>2016-10-13 18:42:37</td>\n",
       "    </tr>\n",
       "    <tr>\n",
       "      <th>305965</th>\n",
       "      <td>JohnBoozman</td>\n",
       "      <td>It’s my honor and the flag patrol looks great!...</td>\n",
       "      <td>2016-10-13 16:01:20</td>\n",
       "    </tr>\n",
       "    <tr>\n",
       "      <th>305966</th>\n",
       "      <td>JohnBoozman</td>\n",
       "      <td>DC Circuit Court strikes harsh blow to Obama a...</td>\n",
       "      <td>2016-10-13 14:39:15</td>\n",
       "    </tr>\n",
       "  </tbody>\n",
       "</table>\n",
       "<p>305967 rows × 3 columns</p>\n",
       "</div>"
      ],
      "text/plain": [
       "                Senator                                              tweet  \\\n",
       "0       SenatorLoeffler  .@Macys is expanding in Georgia!\\n\\n@gdecd ann...   \n",
       "1       SenatorLoeffler  Our veterans &amp; service members represent t...   \n",
       "2       SenatorLoeffler  Sending some much-deserved #ValentinesDay love...   \n",
       "3       SenatorLoeffler  Happy to work with @MarshaBlackburn on this bi...   \n",
       "4       SenatorLoeffler  RT @SenHydeSmith: #HappyValentinesDay from the...   \n",
       "...                 ...                                                ...   \n",
       "305962      JohnBoozman  Happy Birthday #USNavy! Thanks for over two ce...   \n",
       "305963      JohnBoozman  Thank you @ArFB Appreciate your efforts as we ...   \n",
       "305964      JohnBoozman  Looking forward to highlighting the work of #A...   \n",
       "305965      JohnBoozman  It’s my honor and the flag patrol looks great!...   \n",
       "305966      JohnBoozman  DC Circuit Court strikes harsh blow to Obama a...   \n",
       "\n",
       "                       time  \n",
       "0       2020-02-15 20:49:37  \n",
       "1       2020-02-15 16:11:53  \n",
       "2       2020-02-14 22:56:40  \n",
       "3       2020-02-14 21:09:53  \n",
       "4       2020-02-14 18:40:35  \n",
       "...                     ...  \n",
       "305962  2016-10-13 23:22:08  \n",
       "305963  2016-10-13 20:47:00  \n",
       "305964  2016-10-13 18:42:37  \n",
       "305965  2016-10-13 16:01:20  \n",
       "305966  2016-10-13 14:39:15  \n",
       "\n",
       "[305967 rows x 3 columns]"
      ]
     },
     "execution_count": 4,
     "metadata": {},
     "output_type": "execute_result"
    }
   ],
   "source": [
    "text=[]\n",
    "newData = []\n",
    "for (key, value) in data.items():\n",
    "    for tweet in value:\n",
    "        text.append(tweet['text'])\n",
    "        newData.append([key, tweet[\"text\"], tweet[\"time\"] ])\n",
    "        \n",
    "df = pd.DataFrame(newData, columns=['Senator', 'tweet', 'time']) \n",
    "  \n",
    "# print dataframe. \n",
    "df "
   ]
  },
  {
   "cell_type": "code",
   "execution_count": 5,
   "metadata": {},
   "outputs": [
    {
     "name": "stdout",
     "output_type": "stream",
     "text": [
      "[[ 6.2900595e-02 -2.0810576e-02 -2.8870093e-02 ... -7.0225738e-02\n",
      "  -5.7337217e-02 -6.6082212e-03]\n",
      " [ 1.4637580e-02 -3.4412000e-02  9.2208637e-03 ...  2.5616109e-02\n",
      "   5.7615736e-04  5.4329112e-02]\n",
      " [ 9.2715574e-03  3.5796955e-02 -4.9412284e-02 ...  8.9502782e-03\n",
      "  -2.8513245e-02  4.3611325e-02]\n",
      " ...\n",
      " [-1.7629255e-03  6.5592274e-02  3.2830078e-02 ... -3.5904642e-02\n",
      "  -1.6280401e-02  2.3088281e-03]\n",
      " [-2.9872144e-03  3.3532542e-05 -3.5749778e-02 ...  2.1570690e-02\n",
      "   8.2604624e-02  3.4687121e-03]\n",
      " [ 1.2076424e-02  7.6919715e-03  6.8239339e-02 ...  2.2967182e-02\n",
      "  -7.3037498e-02 -6.1348226e-02]]\n"
     ]
    }
   ],
   "source": [
    "single = np.split(np.array(text), 3)\n",
    "print(embed(single[0]).numpy())\n",
    "embeddings = embed(single[0]).numpy()"
   ]
  },
  {
   "cell_type": "code",
   "execution_count": 6,
   "metadata": {},
   "outputs": [
    {
     "data": {
      "text/plain": [
       "(101989, 512)"
      ]
     },
     "execution_count": 6,
     "metadata": {},
     "output_type": "execute_result"
    }
   ],
   "source": [
    "embeddings.shape"
   ]
  },
  {
   "cell_type": "code",
   "execution_count": 7,
   "metadata": {},
   "outputs": [],
   "source": [
    "embeddings = np.concatenate((embeddings, embed(single[1]).numpy()), axis=0)"
   ]
  },
  {
   "cell_type": "code",
   "execution_count": 8,
   "metadata": {},
   "outputs": [
    {
     "data": {
      "text/plain": [
       "(203978, 512)"
      ]
     },
     "execution_count": 8,
     "metadata": {},
     "output_type": "execute_result"
    }
   ],
   "source": [
    "embeddings.shape"
   ]
  },
  {
   "cell_type": "code",
   "execution_count": 9,
   "metadata": {},
   "outputs": [],
   "source": [
    "embeddings = np.concatenate((embeddings, embed(single[2]).numpy()), axis=0)"
   ]
  },
  {
   "cell_type": "code",
   "execution_count": 10,
   "metadata": {},
   "outputs": [
    {
     "data": {
      "text/plain": [
       "(305967, 512)"
      ]
     },
     "execution_count": 10,
     "metadata": {},
     "output_type": "execute_result"
    }
   ],
   "source": [
    "embeddings.shape"
   ]
  },
  {
   "cell_type": "code",
   "execution_count": 11,
   "metadata": {},
   "outputs": [],
   "source": [
    "embeddings = embeddings.tolist()"
   ]
  },
  {
   "cell_type": "code",
   "execution_count": 12,
   "metadata": {},
   "outputs": [
    {
     "data": {
      "text/plain": [
       "305967"
      ]
     },
     "execution_count": 12,
     "metadata": {},
     "output_type": "execute_result"
    }
   ],
   "source": [
    "len(embeddings)"
   ]
  },
  {
   "cell_type": "code",
   "execution_count": 13,
   "metadata": {},
   "outputs": [
    {
     "data": {
      "text/html": [
       "<div>\n",
       "<style scoped>\n",
       "    .dataframe tbody tr th:only-of-type {\n",
       "        vertical-align: middle;\n",
       "    }\n",
       "\n",
       "    .dataframe tbody tr th {\n",
       "        vertical-align: top;\n",
       "    }\n",
       "\n",
       "    .dataframe thead th {\n",
       "        text-align: right;\n",
       "    }\n",
       "</style>\n",
       "<table border=\"1\" class=\"dataframe\">\n",
       "  <thead>\n",
       "    <tr style=\"text-align: right;\">\n",
       "      <th></th>\n",
       "      <th>Senator</th>\n",
       "      <th>tweet</th>\n",
       "      <th>time</th>\n",
       "      <th>use</th>\n",
       "    </tr>\n",
       "  </thead>\n",
       "  <tbody>\n",
       "    <tr>\n",
       "      <th>0</th>\n",
       "      <td>SenatorLoeffler</td>\n",
       "      <td>.@Macys is expanding in Georgia!\\n\\n@gdecd ann...</td>\n",
       "      <td>2020-02-15 20:49:37</td>\n",
       "      <td>[0.0629005953669548, -0.020810576155781746, -0...</td>\n",
       "    </tr>\n",
       "    <tr>\n",
       "      <th>1</th>\n",
       "      <td>SenatorLoeffler</td>\n",
       "      <td>Our veterans &amp;amp; service members represent t...</td>\n",
       "      <td>2020-02-15 16:11:53</td>\n",
       "      <td>[0.014637580141425133, -0.03441200032830238, 0...</td>\n",
       "    </tr>\n",
       "    <tr>\n",
       "      <th>2</th>\n",
       "      <td>SenatorLoeffler</td>\n",
       "      <td>Sending some much-deserved #ValentinesDay love...</td>\n",
       "      <td>2020-02-14 22:56:40</td>\n",
       "      <td>[0.009271557442843914, 0.03579695522785187, -0...</td>\n",
       "    </tr>\n",
       "    <tr>\n",
       "      <th>3</th>\n",
       "      <td>SenatorLoeffler</td>\n",
       "      <td>Happy to work with @MarshaBlackburn on this bi...</td>\n",
       "      <td>2020-02-14 21:09:53</td>\n",
       "      <td>[0.0227094404399395, -0.06247790530323982, 0.0...</td>\n",
       "    </tr>\n",
       "    <tr>\n",
       "      <th>4</th>\n",
       "      <td>SenatorLoeffler</td>\n",
       "      <td>RT @SenHydeSmith: #HappyValentinesDay from the...</td>\n",
       "      <td>2020-02-14 18:40:35</td>\n",
       "      <td>[0.036325279623270035, -0.004322072025388479, ...</td>\n",
       "    </tr>\n",
       "    <tr>\n",
       "      <th>...</th>\n",
       "      <td>...</td>\n",
       "      <td>...</td>\n",
       "      <td>...</td>\n",
       "      <td>...</td>\n",
       "    </tr>\n",
       "    <tr>\n",
       "      <th>305962</th>\n",
       "      <td>JohnBoozman</td>\n",
       "      <td>Happy Birthday #USNavy! Thanks for over two ce...</td>\n",
       "      <td>2016-10-13 23:22:08</td>\n",
       "      <td>[-0.05527094006538391, -0.06050789728760719, 0...</td>\n",
       "    </tr>\n",
       "    <tr>\n",
       "      <th>305963</th>\n",
       "      <td>JohnBoozman</td>\n",
       "      <td>Thank you @ArFB Appreciate your efforts as we ...</td>\n",
       "      <td>2016-10-13 20:47:00</td>\n",
       "      <td>[0.038715485483407974, -0.0006181031931191683,...</td>\n",
       "    </tr>\n",
       "    <tr>\n",
       "      <th>305964</th>\n",
       "      <td>JohnBoozman</td>\n",
       "      <td>Looking forward to highlighting the work of #A...</td>\n",
       "      <td>2016-10-13 18:42:37</td>\n",
       "      <td>[0.024595560505986214, 0.04890052601695061, 0....</td>\n",
       "    </tr>\n",
       "    <tr>\n",
       "      <th>305965</th>\n",
       "      <td>JohnBoozman</td>\n",
       "      <td>It’s my honor and the flag patrol looks great!...</td>\n",
       "      <td>2016-10-13 16:01:20</td>\n",
       "      <td>[-0.019284779205918312, -0.024209516122937202,...</td>\n",
       "    </tr>\n",
       "    <tr>\n",
       "      <th>305966</th>\n",
       "      <td>JohnBoozman</td>\n",
       "      <td>DC Circuit Court strikes harsh blow to Obama a...</td>\n",
       "      <td>2016-10-13 14:39:15</td>\n",
       "      <td>[-0.06918207556009293, -0.06719715893268585, 0...</td>\n",
       "    </tr>\n",
       "  </tbody>\n",
       "</table>\n",
       "<p>305967 rows × 4 columns</p>\n",
       "</div>"
      ],
      "text/plain": [
       "                Senator                                              tweet  \\\n",
       "0       SenatorLoeffler  .@Macys is expanding in Georgia!\\n\\n@gdecd ann...   \n",
       "1       SenatorLoeffler  Our veterans &amp; service members represent t...   \n",
       "2       SenatorLoeffler  Sending some much-deserved #ValentinesDay love...   \n",
       "3       SenatorLoeffler  Happy to work with @MarshaBlackburn on this bi...   \n",
       "4       SenatorLoeffler  RT @SenHydeSmith: #HappyValentinesDay from the...   \n",
       "...                 ...                                                ...   \n",
       "305962      JohnBoozman  Happy Birthday #USNavy! Thanks for over two ce...   \n",
       "305963      JohnBoozman  Thank you @ArFB Appreciate your efforts as we ...   \n",
       "305964      JohnBoozman  Looking forward to highlighting the work of #A...   \n",
       "305965      JohnBoozman  It’s my honor and the flag patrol looks great!...   \n",
       "305966      JohnBoozman  DC Circuit Court strikes harsh blow to Obama a...   \n",
       "\n",
       "                       time                                                use  \n",
       "0       2020-02-15 20:49:37  [0.0629005953669548, -0.020810576155781746, -0...  \n",
       "1       2020-02-15 16:11:53  [0.014637580141425133, -0.03441200032830238, 0...  \n",
       "2       2020-02-14 22:56:40  [0.009271557442843914, 0.03579695522785187, -0...  \n",
       "3       2020-02-14 21:09:53  [0.0227094404399395, -0.06247790530323982, 0.0...  \n",
       "4       2020-02-14 18:40:35  [0.036325279623270035, -0.004322072025388479, ...  \n",
       "...                     ...                                                ...  \n",
       "305962  2016-10-13 23:22:08  [-0.05527094006538391, -0.06050789728760719, 0...  \n",
       "305963  2016-10-13 20:47:00  [0.038715485483407974, -0.0006181031931191683,...  \n",
       "305964  2016-10-13 18:42:37  [0.024595560505986214, 0.04890052601695061, 0....  \n",
       "305965  2016-10-13 16:01:20  [-0.019284779205918312, -0.024209516122937202,...  \n",
       "305966  2016-10-13 14:39:15  [-0.06918207556009293, -0.06719715893268585, 0...  \n",
       "\n",
       "[305967 rows x 4 columns]"
      ]
     },
     "execution_count": 13,
     "metadata": {},
     "output_type": "execute_result"
    }
   ],
   "source": [
    "df['use'] = embeddings\n",
    "df"
   ]
  },
  {
   "cell_type": "markdown",
   "metadata": {},
   "source": [
    "### I try to generate the Heatmap of the sentence similarities matrix. However, it is too long to doing that. Even though I also tried to reduce the number of tweet that only working on the tweet after 2020-02, but it still takes a very long time."
   ]
  },
  {
   "cell_type": "code",
   "execution_count": 14,
   "metadata": {},
   "outputs": [],
   "source": [
    "\n",
    "#df_filter = df[df['time'] > '2020-02']\n",
    "#df_filter.shape\n",
    "#df_filter = list(df_filter['use'])\n",
    "#len(df_filter)\n"
   ]
  },
  {
   "cell_type": "code",
   "execution_count": 15,
   "metadata": {},
   "outputs": [],
   "source": [
    "#row = []\n",
    "#for element in df_filter:\n",
    "#    column = []\n",
    "#    column = map(lambda x: np.dot(x,element), df_filter)\n",
    "#    row.append(list(column))\n"
   ]
  },
  {
   "cell_type": "markdown",
   "metadata": {},
   "source": [
    "# Plot the total number of the tweets they post"
   ]
  },
  {
   "cell_type": "code",
   "execution_count": 17,
   "metadata": {},
   "outputs": [],
   "source": [
    "senatorTweetCount = df.groupby(['Senator']).count()['tweet']"
   ]
  },
  {
   "cell_type": "code",
   "execution_count": 19,
   "metadata": {},
   "outputs": [
    {
     "data": {
      "text/plain": [
       "<matplotlib.axes._subplots.AxesSubplot at 0x7f05bb2bf710>"
      ]
     },
     "execution_count": 19,
     "metadata": {},
     "output_type": "execute_result"
    },
    {
     "data": {
      "image/png": "[encoded data removed]",
      "text/plain": [
       "<Figure size 432x288 with 1 Axes>"
      ]
     },
     "metadata": {
      "needs_background": "light"
     },
     "output_type": "display_data"
    }
   ],
   "source": [
    "senatorTweetCount.plot.bar()"
   ]
  },
  {
   "cell_type": "markdown",
   "metadata": {},
   "source": [
    "# The Senator who twit most"
   ]
  },
  {
   "cell_type": "code",
   "execution_count": 22,
   "metadata": {},
   "outputs": [
    {
     "name": "stdout",
     "output_type": "stream",
     "text": [
      "SenGaryPeters 3249\n"
     ]
    }
   ],
   "source": [
    "senatorTweetCount.max()\n",
    "print(senatorTweetCount.idxmax(), senatorTweetCount.max())"
   ]
  },
  {
   "cell_type": "code",
   "execution_count": 25,
   "metadata": {},
   "outputs": [
    {
     "ename": "KeyboardInterrupt",
     "evalue": "",
     "output_type": "error",
     "traceback": [
      "\u001b[0;31m---------------------------------------------------------------------------\u001b[0m",
      "\u001b[0;31mKeyboardInterrupt\u001b[0m                         Traceback (most recent call last)",
      "\u001b[0;32m<ipython-input-25-ba32a0fb1fb9>\u001b[0m in \u001b[0;36m<module>\u001b[0;34m\u001b[0m\n\u001b[1;32m      1\u001b[0m \u001b[0mallText\u001b[0m \u001b[0;34m=\u001b[0m \u001b[0mlist\u001b[0m\u001b[0;34m(\u001b[0m\u001b[0mdf\u001b[0m\u001b[0;34m[\u001b[0m\u001b[0;34m'tweet'\u001b[0m\u001b[0;34m]\u001b[0m\u001b[0;34m)\u001b[0m\u001b[0;34m\u001b[0m\u001b[0;34m\u001b[0m\u001b[0m\n\u001b[1;32m      2\u001b[0m \u001b[0;32mimport\u001b[0m \u001b[0mfunctools\u001b[0m\u001b[0;34m\u001b[0m\u001b[0;34m\u001b[0m\u001b[0m\n\u001b[0;32m----> 3\u001b[0;31m \u001b[0mallText\u001b[0m \u001b[0;34m=\u001b[0m \u001b[0mfunctools\u001b[0m\u001b[0;34m.\u001b[0m\u001b[0mreduce\u001b[0m\u001b[0;34m(\u001b[0m\u001b[0;32mlambda\u001b[0m \u001b[0ma\u001b[0m\u001b[0;34m,\u001b[0m \u001b[0mb\u001b[0m \u001b[0;34m:\u001b[0m \u001b[0ma\u001b[0m\u001b[0;34m+\u001b[0m\u001b[0;34m' '\u001b[0m\u001b[0;34m+\u001b[0m \u001b[0mb\u001b[0m\u001b[0;34m,\u001b[0m \u001b[0mallText\u001b[0m \u001b[0;34m)\u001b[0m\u001b[0;34m\u001b[0m\u001b[0;34m\u001b[0m\u001b[0m\n\u001b[0m\u001b[1;32m      4\u001b[0m \u001b[0mallText\u001b[0m\u001b[0;34m\u001b[0m\u001b[0;34m\u001b[0m\u001b[0m\n",
      "\u001b[0;32m<ipython-input-25-ba32a0fb1fb9>\u001b[0m in \u001b[0;36m<lambda>\u001b[0;34m(a, b)\u001b[0m\n\u001b[1;32m      1\u001b[0m \u001b[0mallText\u001b[0m \u001b[0;34m=\u001b[0m \u001b[0mlist\u001b[0m\u001b[0;34m(\u001b[0m\u001b[0mdf\u001b[0m\u001b[0;34m[\u001b[0m\u001b[0;34m'tweet'\u001b[0m\u001b[0;34m]\u001b[0m\u001b[0;34m)\u001b[0m\u001b[0;34m\u001b[0m\u001b[0;34m\u001b[0m\u001b[0m\n\u001b[1;32m      2\u001b[0m \u001b[0;32mimport\u001b[0m \u001b[0mfunctools\u001b[0m\u001b[0;34m\u001b[0m\u001b[0;34m\u001b[0m\u001b[0m\n\u001b[0;32m----> 3\u001b[0;31m \u001b[0mallText\u001b[0m \u001b[0;34m=\u001b[0m \u001b[0mfunctools\u001b[0m\u001b[0;34m.\u001b[0m\u001b[0mreduce\u001b[0m\u001b[0;34m(\u001b[0m\u001b[0;32mlambda\u001b[0m \u001b[0ma\u001b[0m\u001b[0;34m,\u001b[0m \u001b[0mb\u001b[0m \u001b[0;34m:\u001b[0m \u001b[0ma\u001b[0m\u001b[0;34m+\u001b[0m\u001b[0;34m' '\u001b[0m\u001b[0;34m+\u001b[0m \u001b[0mb\u001b[0m\u001b[0;34m,\u001b[0m \u001b[0mallText\u001b[0m \u001b[0;34m)\u001b[0m\u001b[0;34m\u001b[0m\u001b[0;34m\u001b[0m\u001b[0m\n\u001b[0m\u001b[1;32m      4\u001b[0m \u001b[0mallText\u001b[0m\u001b[0;34m\u001b[0m\u001b[0;34m\u001b[0m\u001b[0m\n",
      "\u001b[0;31mKeyboardInterrupt\u001b[0m: "
     ]
    }
   ],
   "source": [
    "allText = list(df['tweet'])"
   ]
  },
  {
   "cell_type": "code",
   "execution_count": null,
   "metadata": {},
   "outputs": [],
   "source": []
  },
  {
   "cell_type": "code",
   "execution_count": 30,
   "metadata": {},
   "outputs": [
    {
     "data": {
      "text/plain": [
       "305967"
      ]
     },
     "execution_count": 30,
     "metadata": {},
     "output_type": "execute_result"
    }
   ],
   "source": [
    "from nltk.tokenize import TweetTokenizer\n",
    "     \n",
    "# Create a reference variable for Class SpaceTokenizer \n",
    "tk =  TweetTokenizer()\n",
    "newText = []\n",
    "for element in allText:\n",
    "    temp = filter(lambda k: '@' not in k, tk.tokenize(element))\n",
    "    newText.append(temp)\n",
    "len(newText)"
   ]
  },
  {
   "cell_type": "code",
   "execution_count": null,
   "metadata": {},
   "outputs": [],
   "source": []
  }
 ],
 "metadata": {
  "kernelspec": {
   "display_name": "Python 3",
   "language": "python",
   "name": "python3"
  },
  "language_info": {
   "codemirror_mode": {
    "name": "ipython",
    "version": 3
   },
   "file_extension": ".py",
   "mimetype": "text/x-python",
   "name": "python",
   "nbconvert_exporter": "python",
   "pygments_lexer": "ipython3",
   "version": "3.6.8"
  }
 },
 "nbformat": 4,
 "nbformat_minor": 4
}
