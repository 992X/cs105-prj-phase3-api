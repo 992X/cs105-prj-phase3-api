{
 "cells": [
  {
   "cell_type": "markdown",
   "metadata": {},
   "source": [
    "# Train model using tensorflow embed data "
   ]
  },
  {
   "cell_type": "code",
   "execution_count": 1,
   "metadata": {},
   "outputs": [],
   "source": [
    "# import lib\n",
    "import numpy as np\n",
    "import json\n",
    "import pandas as pd\n",
    "import os\n",
    "from sklearn import svm"
   ]
  },
  {
   "cell_type": "code",
   "execution_count": null,
   "metadata": {},
   "outputs": [],
   "source": [
    "# df = pd.read_csv(\"DCForTrain.csv\")\n",
    "# df.head()"
   ]
  },
  {
   "cell_type": "code",
   "execution_count": 2,
   "metadata": {},
   "outputs": [
    {
     "data": {
      "text/plain": [
       "{'healthcare': 0,\n",
       " 'pet': 1,\n",
       " 'business': 2,\n",
       " 'fashion beauty': 3,\n",
       " 'fitness sports': 4,\n",
       " 'food beverage': 5,\n",
       " 'media enterainment': 6,\n",
       " 'lifecycle home': 7,\n",
       " 'consumer': 8,\n",
       " 'green cleantech': 9,\n",
       " 'children education': 10,\n",
       " 'software tech': 11}"
      ]
     },
     "execution_count": 2,
     "metadata": {},
     "output_type": "execute_result"
    }
   ],
   "source": [
    "path = 'cleanedDCinboxResource/'\n",
    "dest_path = 'encodedDCinboxResource/'\n",
    "dirs = os.listdir(path)\n",
    "dirs\n",
    "topics = map(lambda x: x.replace('.json.csv',''), dirs) \n",
    "topics = list(topics)\n",
    "topics_df = pd.DataFrame(topics)\n",
    "topics_index = list(topics_df.index)\n",
    "topics_index\n",
    "\n",
    "topic_dict = dict(zip(topics, topics_index))\n",
    "topic_dict"
   ]
  },
  {
   "cell_type": "code",
   "execution_count": 3,
   "metadata": {},
   "outputs": [],
   "source": [
    "# Set up training data\n",
    "df_train = pd.DataFrame()\n",
    "\n",
    "for i in dirs:\n",
    "    temp = pd.read_csv(\"encodedDCinboxResource/\" + i)\n",
    "    temp['topic'] = i.replace('.json.csv','')\n",
    "    df_train = df_train.append(temp.iloc[:temp.index.size*3//4,:])"
   ]
  },
  {
   "cell_type": "code",
   "execution_count": 4,
   "metadata": {},
   "outputs": [
    {
     "name": "stderr",
     "output_type": "stream",
     "text": [
      "/usr/local/lib/python3.6/site-packages/ipykernel_launcher.py:3: SettingWithCopyWarning: \n",
      "A value is trying to be set on a copy of a slice from a DataFrame.\n",
      "Try using .loc[row_indexer,col_indexer] = value instead\n",
      "\n",
      "See the caveats in the documentation: http://pandas.pydata.org/pandas-docs/stable/user_guide/indexing.html#returning-a-view-versus-a-copy\n",
      "  This is separate from the ipykernel package so we can avoid doing imports until\n"
     ]
    }
   ],
   "source": [
    "# Set up for X_train\n",
    "X_train = df_train[['embed']]\n",
    "X_train['embed'] = X_train['embed'].apply(json.loads)\n",
    "# X_train['embed']\n",
    "X_train = pd.DataFrame(X_train['embed'].tolist(), columns=range(0, 512))\n",
    "\n",
    "\n",
    "from sklearn.decomposition import TruncatedSVD\n",
    "\n",
    "X_reduced = TruncatedSVD(n_components = 50, random_state = 0).fit_transform(X_train)\n",
    "X_train = pd.DataFrame(X_reduced, columns=range(0,50))\n",
    "# X_train = X_train.sample(frac=1,random_state = 5)\n",
    "\n",
    "\n",
    "# X_train = df.copy(deep=True) # copy the dataframe \n",
    "# X_train = X_train[['embed']]\n",
    "# X_train = X_train.iloc[:22981,:]\n",
    "# X_train['embed'] = X_train['embed'].apply(json.loads)\n",
    "# # X_train['embed']\n",
    "# X_train = pd.DataFrame(X_train['embed'].tolist(), columns=range(0, 512))\n",
    "# X_train.head(2)"
   ]
  },
  {
   "cell_type": "code",
   "execution_count": 5,
   "metadata": {},
   "outputs": [
    {
     "data": {
      "text/plain": [
       "0         0\n",
       "1         0\n",
       "2         0\n",
       "3         0\n",
       "4         0\n",
       "         ..\n",
       "34260    11\n",
       "34261    11\n",
       "34262    11\n",
       "34263    11\n",
       "34264    11\n",
       "Name: topic, Length: 34265, dtype: int64"
      ]
     },
     "execution_count": 5,
     "metadata": {},
     "output_type": "execute_result"
    }
   ],
   "source": [
    "# Set up for y_train\n",
    "y_train = df_train.copy(deep=True)\n",
    "y_train = y_train[['topic']]\n",
    "y_train = y_train['topic'].map(topic_dict)\n",
    "y_train = y_train.reset_index(drop = True)\n",
    "# y_train = y_train.sample(frac=1,random_state = 5)\n",
    "y_train\n"
   ]
  },
  {
   "cell_type": "code",
   "execution_count": null,
   "metadata": {},
   "outputs": [],
   "source": [
    "# settinf up model\n",
    "\n",
    "clf = svm.SVC()\n",
    "clf.fit(X = X_train, y = y_train)\n",
    "# dump the model for further usage\n",
    "from joblib import dump, load\n",
    "dump(clf, 'tweetModel_1_3.joblib') \n"
   ]
  },
  {
   "cell_type": "code",
   "execution_count": 6,
   "metadata": {},
   "outputs": [
    {
     "name": "stderr",
     "output_type": "stream",
     "text": [
      "/usr/local/lib/python3.6/site-packages/ipykernel_launcher.py:11: SettingWithCopyWarning: \n",
      "A value is trying to be set on a copy of a slice from a DataFrame.\n",
      "Try using .loc[row_indexer,col_indexer] = value instead\n",
      "\n",
      "See the caveats in the documentation: http://pandas.pydata.org/pandas-docs/stable/user_guide/indexing.html#returning-a-view-versus-a-copy\n",
      "  # This is added back by InteractiveShellApp.init_path()\n"
     ]
    },
    {
     "data": {
      "text/html": [
       "<div>\n",
       "<style scoped>\n",
       "    .dataframe tbody tr th:only-of-type {\n",
       "        vertical-align: middle;\n",
       "    }\n",
       "\n",
       "    .dataframe tbody tr th {\n",
       "        vertical-align: top;\n",
       "    }\n",
       "\n",
       "    .dataframe thead th {\n",
       "        text-align: right;\n",
       "    }\n",
       "</style>\n",
       "<table border=\"1\" class=\"dataframe\">\n",
       "  <thead>\n",
       "    <tr style=\"text-align: right;\">\n",
       "      <th></th>\n",
       "      <th>0</th>\n",
       "      <th>1</th>\n",
       "      <th>2</th>\n",
       "      <th>3</th>\n",
       "      <th>4</th>\n",
       "      <th>5</th>\n",
       "      <th>6</th>\n",
       "      <th>7</th>\n",
       "      <th>8</th>\n",
       "      <th>9</th>\n",
       "      <th>...</th>\n",
       "      <th>40</th>\n",
       "      <th>41</th>\n",
       "      <th>42</th>\n",
       "      <th>43</th>\n",
       "      <th>44</th>\n",
       "      <th>45</th>\n",
       "      <th>46</th>\n",
       "      <th>47</th>\n",
       "      <th>48</th>\n",
       "      <th>49</th>\n",
       "    </tr>\n",
       "  </thead>\n",
       "  <tbody>\n",
       "    <tr>\n",
       "      <th>0</th>\n",
       "      <td>0.312319</td>\n",
       "      <td>-0.242930</td>\n",
       "      <td>-0.138635</td>\n",
       "      <td>-0.051143</td>\n",
       "      <td>-0.158923</td>\n",
       "      <td>-0.147862</td>\n",
       "      <td>0.021554</td>\n",
       "      <td>0.187114</td>\n",
       "      <td>0.161063</td>\n",
       "      <td>0.071224</td>\n",
       "      <td>...</td>\n",
       "      <td>-0.074826</td>\n",
       "      <td>0.019497</td>\n",
       "      <td>-0.071345</td>\n",
       "      <td>0.043674</td>\n",
       "      <td>0.115854</td>\n",
       "      <td>-0.087908</td>\n",
       "      <td>-0.064737</td>\n",
       "      <td>0.037786</td>\n",
       "      <td>-0.056715</td>\n",
       "      <td>0.033752</td>\n",
       "    </tr>\n",
       "    <tr>\n",
       "      <th>1</th>\n",
       "      <td>0.373006</td>\n",
       "      <td>-0.213416</td>\n",
       "      <td>0.041770</td>\n",
       "      <td>-0.201469</td>\n",
       "      <td>-0.248171</td>\n",
       "      <td>-0.040466</td>\n",
       "      <td>0.272152</td>\n",
       "      <td>0.131102</td>\n",
       "      <td>-0.090796</td>\n",
       "      <td>-0.099057</td>\n",
       "      <td>...</td>\n",
       "      <td>-0.101098</td>\n",
       "      <td>0.009624</td>\n",
       "      <td>-0.028805</td>\n",
       "      <td>-0.085506</td>\n",
       "      <td>0.015452</td>\n",
       "      <td>-0.014385</td>\n",
       "      <td>-0.040982</td>\n",
       "      <td>-0.018764</td>\n",
       "      <td>0.084054</td>\n",
       "      <td>-0.095079</td>\n",
       "    </tr>\n",
       "    <tr>\n",
       "      <th>2</th>\n",
       "      <td>0.510487</td>\n",
       "      <td>-0.094853</td>\n",
       "      <td>-0.151335</td>\n",
       "      <td>0.182002</td>\n",
       "      <td>0.176556</td>\n",
       "      <td>0.009415</td>\n",
       "      <td>-0.019920</td>\n",
       "      <td>-0.024444</td>\n",
       "      <td>-0.152495</td>\n",
       "      <td>0.075457</td>\n",
       "      <td>...</td>\n",
       "      <td>-0.047901</td>\n",
       "      <td>-0.117872</td>\n",
       "      <td>-0.000486</td>\n",
       "      <td>0.009635</td>\n",
       "      <td>-0.080039</td>\n",
       "      <td>0.017950</td>\n",
       "      <td>-0.162351</td>\n",
       "      <td>0.068067</td>\n",
       "      <td>0.087630</td>\n",
       "      <td>-0.070686</td>\n",
       "    </tr>\n",
       "    <tr>\n",
       "      <th>3</th>\n",
       "      <td>0.464822</td>\n",
       "      <td>0.240827</td>\n",
       "      <td>-0.112117</td>\n",
       "      <td>-0.033175</td>\n",
       "      <td>0.014521</td>\n",
       "      <td>0.072294</td>\n",
       "      <td>-0.064020</td>\n",
       "      <td>-0.045689</td>\n",
       "      <td>0.116479</td>\n",
       "      <td>-0.162816</td>\n",
       "      <td>...</td>\n",
       "      <td>-0.111516</td>\n",
       "      <td>0.041188</td>\n",
       "      <td>0.069516</td>\n",
       "      <td>0.042894</td>\n",
       "      <td>-0.010494</td>\n",
       "      <td>-0.043056</td>\n",
       "      <td>-0.096400</td>\n",
       "      <td>0.063559</td>\n",
       "      <td>-0.001824</td>\n",
       "      <td>0.085464</td>\n",
       "    </tr>\n",
       "    <tr>\n",
       "      <th>4</th>\n",
       "      <td>0.250258</td>\n",
       "      <td>-0.105335</td>\n",
       "      <td>0.026475</td>\n",
       "      <td>-0.222507</td>\n",
       "      <td>-0.079556</td>\n",
       "      <td>0.189245</td>\n",
       "      <td>0.058676</td>\n",
       "      <td>-0.199685</td>\n",
       "      <td>-0.092474</td>\n",
       "      <td>-0.068576</td>\n",
       "      <td>...</td>\n",
       "      <td>0.092951</td>\n",
       "      <td>-0.006286</td>\n",
       "      <td>-0.023469</td>\n",
       "      <td>-0.049630</td>\n",
       "      <td>0.038451</td>\n",
       "      <td>-0.021893</td>\n",
       "      <td>0.003136</td>\n",
       "      <td>0.035309</td>\n",
       "      <td>-0.030876</td>\n",
       "      <td>-0.087558</td>\n",
       "    </tr>\n",
       "    <tr>\n",
       "      <th>...</th>\n",
       "      <td>...</td>\n",
       "      <td>...</td>\n",
       "      <td>...</td>\n",
       "      <td>...</td>\n",
       "      <td>...</td>\n",
       "      <td>...</td>\n",
       "      <td>...</td>\n",
       "      <td>...</td>\n",
       "      <td>...</td>\n",
       "      <td>...</td>\n",
       "      <td>...</td>\n",
       "      <td>...</td>\n",
       "      <td>...</td>\n",
       "      <td>...</td>\n",
       "      <td>...</td>\n",
       "      <td>...</td>\n",
       "      <td>...</td>\n",
       "      <td>...</td>\n",
       "      <td>...</td>\n",
       "      <td>...</td>\n",
       "      <td>...</td>\n",
       "    </tr>\n",
       "    <tr>\n",
       "      <th>11423</th>\n",
       "      <td>-0.038946</td>\n",
       "      <td>-0.050237</td>\n",
       "      <td>0.094512</td>\n",
       "      <td>0.134264</td>\n",
       "      <td>-0.053934</td>\n",
       "      <td>0.099420</td>\n",
       "      <td>0.040809</td>\n",
       "      <td>0.131239</td>\n",
       "      <td>-0.079947</td>\n",
       "      <td>0.040869</td>\n",
       "      <td>...</td>\n",
       "      <td>0.009343</td>\n",
       "      <td>0.025320</td>\n",
       "      <td>-0.110847</td>\n",
       "      <td>0.118098</td>\n",
       "      <td>0.020082</td>\n",
       "      <td>0.038965</td>\n",
       "      <td>0.055533</td>\n",
       "      <td>-0.029695</td>\n",
       "      <td>0.031053</td>\n",
       "      <td>0.186908</td>\n",
       "    </tr>\n",
       "    <tr>\n",
       "      <th>11424</th>\n",
       "      <td>0.099724</td>\n",
       "      <td>-0.036741</td>\n",
       "      <td>0.144328</td>\n",
       "      <td>0.208957</td>\n",
       "      <td>-0.001588</td>\n",
       "      <td>0.216907</td>\n",
       "      <td>0.068851</td>\n",
       "      <td>-0.126295</td>\n",
       "      <td>0.188293</td>\n",
       "      <td>0.039415</td>\n",
       "      <td>...</td>\n",
       "      <td>0.035786</td>\n",
       "      <td>-0.173692</td>\n",
       "      <td>-0.081097</td>\n",
       "      <td>-0.010720</td>\n",
       "      <td>0.025898</td>\n",
       "      <td>0.146764</td>\n",
       "      <td>-0.008567</td>\n",
       "      <td>0.011790</td>\n",
       "      <td>0.009556</td>\n",
       "      <td>0.177730</td>\n",
       "    </tr>\n",
       "    <tr>\n",
       "      <th>11425</th>\n",
       "      <td>0.211760</td>\n",
       "      <td>-0.084833</td>\n",
       "      <td>0.027821</td>\n",
       "      <td>0.289588</td>\n",
       "      <td>-0.167985</td>\n",
       "      <td>0.134838</td>\n",
       "      <td>-0.127141</td>\n",
       "      <td>0.057615</td>\n",
       "      <td>0.062529</td>\n",
       "      <td>-0.002108</td>\n",
       "      <td>...</td>\n",
       "      <td>0.032765</td>\n",
       "      <td>-0.039315</td>\n",
       "      <td>-0.082253</td>\n",
       "      <td>0.103295</td>\n",
       "      <td>0.025612</td>\n",
       "      <td>0.030724</td>\n",
       "      <td>-0.021126</td>\n",
       "      <td>0.005841</td>\n",
       "      <td>0.112184</td>\n",
       "      <td>0.110885</td>\n",
       "    </tr>\n",
       "    <tr>\n",
       "      <th>11426</th>\n",
       "      <td>0.283893</td>\n",
       "      <td>-0.131344</td>\n",
       "      <td>0.170896</td>\n",
       "      <td>-0.021222</td>\n",
       "      <td>-0.295514</td>\n",
       "      <td>0.159617</td>\n",
       "      <td>-0.060163</td>\n",
       "      <td>0.292396</td>\n",
       "      <td>0.004025</td>\n",
       "      <td>-0.076218</td>\n",
       "      <td>...</td>\n",
       "      <td>-0.081295</td>\n",
       "      <td>-0.133919</td>\n",
       "      <td>-0.123354</td>\n",
       "      <td>0.121682</td>\n",
       "      <td>-0.103700</td>\n",
       "      <td>0.107254</td>\n",
       "      <td>-0.048804</td>\n",
       "      <td>0.058093</td>\n",
       "      <td>0.086302</td>\n",
       "      <td>0.110550</td>\n",
       "    </tr>\n",
       "    <tr>\n",
       "      <th>11427</th>\n",
       "      <td>-0.008021</td>\n",
       "      <td>-0.033810</td>\n",
       "      <td>0.002288</td>\n",
       "      <td>-0.002505</td>\n",
       "      <td>-0.098970</td>\n",
       "      <td>0.010602</td>\n",
       "      <td>0.098850</td>\n",
       "      <td>-0.229603</td>\n",
       "      <td>-0.200079</td>\n",
       "      <td>0.048411</td>\n",
       "      <td>...</td>\n",
       "      <td>-0.026345</td>\n",
       "      <td>0.176181</td>\n",
       "      <td>0.054915</td>\n",
       "      <td>0.022436</td>\n",
       "      <td>0.058114</td>\n",
       "      <td>0.054413</td>\n",
       "      <td>0.031489</td>\n",
       "      <td>-0.003420</td>\n",
       "      <td>-0.075045</td>\n",
       "      <td>0.049460</td>\n",
       "    </tr>\n",
       "  </tbody>\n",
       "</table>\n",
       "<p>11428 rows × 50 columns</p>\n",
       "</div>"
      ],
      "text/plain": [
       "             0         1         2         3         4         5         6   \\\n",
       "0      0.312319 -0.242930 -0.138635 -0.051143 -0.158923 -0.147862  0.021554   \n",
       "1      0.373006 -0.213416  0.041770 -0.201469 -0.248171 -0.040466  0.272152   \n",
       "2      0.510487 -0.094853 -0.151335  0.182002  0.176556  0.009415 -0.019920   \n",
       "3      0.464822  0.240827 -0.112117 -0.033175  0.014521  0.072294 -0.064020   \n",
       "4      0.250258 -0.105335  0.026475 -0.222507 -0.079556  0.189245  0.058676   \n",
       "...         ...       ...       ...       ...       ...       ...       ...   \n",
       "11423 -0.038946 -0.050237  0.094512  0.134264 -0.053934  0.099420  0.040809   \n",
       "11424  0.099724 -0.036741  0.144328  0.208957 -0.001588  0.216907  0.068851   \n",
       "11425  0.211760 -0.084833  0.027821  0.289588 -0.167985  0.134838 -0.127141   \n",
       "11426  0.283893 -0.131344  0.170896 -0.021222 -0.295514  0.159617 -0.060163   \n",
       "11427 -0.008021 -0.033810  0.002288 -0.002505 -0.098970  0.010602  0.098850   \n",
       "\n",
       "             7         8         9   ...        40        41        42  \\\n",
       "0      0.187114  0.161063  0.071224  ... -0.074826  0.019497 -0.071345   \n",
       "1      0.131102 -0.090796 -0.099057  ... -0.101098  0.009624 -0.028805   \n",
       "2     -0.024444 -0.152495  0.075457  ... -0.047901 -0.117872 -0.000486   \n",
       "3     -0.045689  0.116479 -0.162816  ... -0.111516  0.041188  0.069516   \n",
       "4     -0.199685 -0.092474 -0.068576  ...  0.092951 -0.006286 -0.023469   \n",
       "...         ...       ...       ...  ...       ...       ...       ...   \n",
       "11423  0.131239 -0.079947  0.040869  ...  0.009343  0.025320 -0.110847   \n",
       "11424 -0.126295  0.188293  0.039415  ...  0.035786 -0.173692 -0.081097   \n",
       "11425  0.057615  0.062529 -0.002108  ...  0.032765 -0.039315 -0.082253   \n",
       "11426  0.292396  0.004025 -0.076218  ... -0.081295 -0.133919 -0.123354   \n",
       "11427 -0.229603 -0.200079  0.048411  ... -0.026345  0.176181  0.054915   \n",
       "\n",
       "             43        44        45        46        47        48        49  \n",
       "0      0.043674  0.115854 -0.087908 -0.064737  0.037786 -0.056715  0.033752  \n",
       "1     -0.085506  0.015452 -0.014385 -0.040982 -0.018764  0.084054 -0.095079  \n",
       "2      0.009635 -0.080039  0.017950 -0.162351  0.068067  0.087630 -0.070686  \n",
       "3      0.042894 -0.010494 -0.043056 -0.096400  0.063559 -0.001824  0.085464  \n",
       "4     -0.049630  0.038451 -0.021893  0.003136  0.035309 -0.030876 -0.087558  \n",
       "...         ...       ...       ...       ...       ...       ...       ...  \n",
       "11423  0.118098  0.020082  0.038965  0.055533 -0.029695  0.031053  0.186908  \n",
       "11424 -0.010720  0.025898  0.146764 -0.008567  0.011790  0.009556  0.177730  \n",
       "11425  0.103295  0.025612  0.030724 -0.021126  0.005841  0.112184  0.110885  \n",
       "11426  0.121682 -0.103700  0.107254 -0.048804  0.058093  0.086302  0.110550  \n",
       "11427  0.022436  0.058114  0.054413  0.031489 -0.003420 -0.075045  0.049460  \n",
       "\n",
       "[11428 rows x 50 columns]"
      ]
     },
     "execution_count": 6,
     "metadata": {},
     "output_type": "execute_result"
    }
   ],
   "source": [
    "df_test = pd.DataFrame()\n",
    "\n",
    "for i in dirs:\n",
    "    temp = pd.read_csv(\"encodedDCinboxResource/\" + i)\n",
    "    temp['topic'] = i.replace('.json.csv','')\n",
    "    df_test = df_test.append(temp.iloc[temp.index.size*3//4:,:])\n",
    "\n",
    "\n",
    "# Set up for X_test\n",
    "X_test = df_test[['embed']]\n",
    "X_test['embed'] = X_test['embed'].apply(json.loads)\n",
    "# X_train['embed']\n",
    "X_test= pd.DataFrame(X_test['embed'].tolist(), columns=range(0, 512))\n",
    "X_test_reduced = TruncatedSVD(n_components = 50, random_state = 0).fit_transform(X_test)\n",
    "X_test = pd.DataFrame(X_test_reduced, columns=range(0,50))\n",
    "X_test"
   ]
  },
  {
   "cell_type": "code",
   "execution_count": 7,
   "metadata": {},
   "outputs": [
    {
     "data": {
      "text/plain": [
       "0         0\n",
       "1         0\n",
       "2         0\n",
       "3         0\n",
       "4         0\n",
       "         ..\n",
       "11423    11\n",
       "11424    11\n",
       "11425    11\n",
       "11426    11\n",
       "11427    11\n",
       "Name: topic, Length: 11428, dtype: int64"
      ]
     },
     "execution_count": 7,
     "metadata": {},
     "output_type": "execute_result"
    }
   ],
   "source": [
    "y_test = df_test.copy(deep=True)\n",
    "y_test = y_test[['topic']]\n",
    "y_test = y_test['topic'].map(topic_dict)\n",
    "y_test = y_test.reset_index(drop = True)\n",
    "y_test"
   ]
  },
  {
   "cell_type": "code",
   "execution_count": 13,
   "metadata": {},
   "outputs": [],
   "source": [
    "\n",
    "# from joblib import dump, load\n",
    "# clf = load('tweetModel_1_3.joblib') \n",
    "\n",
    "Y_predict = clf.predict(X_train.sort_index())\n",
    "\n",
    "output=pd.DataFrame(data={\"y_train\": y_train.sort_index(), \"Y_predict\":Y_predict}) \n",
    "\n",
    "output.to_csv(path_or_buf=\"resultssvm.csv\",index=False,quoting=3,sep=',')"
   ]
  },
  {
   "cell_type": "code",
   "execution_count": 14,
   "metadata": {},
   "outputs": [
    {
     "data": {
      "text/plain": [
       "array([0.07952721, 0.07091785, 0.10331242, 0.1154239 , 0.10024807])"
      ]
     },
     "execution_count": 14,
     "metadata": {},
     "output_type": "execute_result"
    }
   ],
   "source": [
    "from sklearn.model_selection import cross_val_score\n",
    "from sklearn.metrics import mean_squared_error\n",
    "from sklearn.preprocessing import StandardScaler\n",
    "from sklearn.linear_model import SGDRegressor\n",
    "from sklearn.pipeline import make_pipeline\n",
    "\n",
    "# pipeline and fit to training set\n",
    "pipeline = make_pipeline(\n",
    "    StandardScaler(),\n",
    "    svm.SVC()\n",
    ")\n",
    "pipeline.fit(X=X_train, y=y_train)\n",
    "    \n",
    "scores = cross_val_score(pipeline, \n",
    "                         X=X_train.sort_index(),\n",
    "                         y=y_train.sort_index(),\n",
    "                         cv=5)  # cv refers to number of cross-validation cuts\n",
    "scores"
   ]
  },
  {
   "cell_type": "code",
   "execution_count": 17,
   "metadata": {},
   "outputs": [],
   "source": [
    "Y_predict = pipeline.predict(X=X_train.sort_index())\n",
    "\n",
    "\n",
    "output=pd.DataFrame(data={\"y_test\": y_train.sort_index(), \"Y_predict\":Y_predict}) \n",
    "output.to_csv(path_or_buf=\"results.csv\",index=False,quoting=3,sep=',')\n"
   ]
  },
  {
   "cell_type": "code",
   "execution_count": 18,
   "metadata": {},
   "outputs": [
    {
     "data": {
      "text/plain": [
       "0.3418940609951846"
      ]
     },
     "execution_count": 18,
     "metadata": {},
     "output_type": "execute_result"
    }
   ],
   "source": [
    "from sklearn.metrics import accuracy_score\n",
    "accuracy_score(y_train.sort_index(),Y_predict)"
   ]
  },
  {
   "cell_type": "code",
   "execution_count": 16,
   "metadata": {},
   "outputs": [
    {
     "data": {
      "text/plain": [
       "['tweetModelCVPipeline_1_3.joblib']"
      ]
     },
     "execution_count": 16,
     "metadata": {},
     "output_type": "execute_result"
    }
   ],
   "source": [
    "dump(pipeline, 'tweetModelCVPipeline_1_3.joblib') "
   ]
  },
  {
   "cell_type": "code",
   "execution_count": 19,
   "metadata": {},
   "outputs": [],
   "source": [
    "Y_test_perdict = pipeline.predict(X=X_test)\n",
    "\n",
    "output=pd.DataFrame(data={\"y_test\": y_test, \"Y_predict\":Y_test_perdict}) \n",
    "output.to_csv(path_or_buf=\"results_test.csv\",index=False,quoting=3,sep=',')"
   ]
  },
  {
   "cell_type": "code",
   "execution_count": 20,
   "metadata": {},
   "outputs": [
    {
     "data": {
      "text/plain": [
       "0.0936296814840742"
      ]
     },
     "execution_count": 20,
     "metadata": {},
     "output_type": "execute_result"
    }
   ],
   "source": [
    "accuracy_score(y_test,Y_test_perdict)"
   ]
  },
  {
   "cell_type": "code",
   "execution_count": null,
   "metadata": {},
   "outputs": [],
   "source": []
  }
 ],
 "metadata": {
  "kernelspec": {
   "display_name": "Python 3",
   "language": "python",
   "name": "python3"
  },
  "language_info": {
   "codemirror_mode": {
    "name": "ipython",
    "version": 3
   },
   "file_extension": ".py",
   "mimetype": "text/x-python",
   "name": "python",
   "nbconvert_exporter": "python",
   "pygments_lexer": "ipython3",
   "version": "3.6.8"
  }
 },
 "nbformat": 4,
 "nbformat_minor": 4
}
