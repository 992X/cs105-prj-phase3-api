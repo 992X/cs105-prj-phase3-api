{
 "cells": [
  {
   "cell_type": "markdown",
   "metadata": {},
   "source": [
    "# Train model using tensorflow embed data "
   ]
  },
  {
   "cell_type": "code",
   "execution_count": 1,
   "metadata": {},
   "outputs": [],
   "source": [
    "# import lib\n",
    "import numpy as np\n",
    "import json\n",
    "import pandas as pd\n",
    "import os\n",
    "from sklearn import svm"
   ]
  },
  {
   "cell_type": "code",
   "execution_count": 2,
   "metadata": {},
   "outputs": [
    {
     "data": {
      "text/html": [
       "<div>\n",
       "<style scoped>\n",
       "    .dataframe tbody tr th:only-of-type {\n",
       "        vertical-align: middle;\n",
       "    }\n",
       "\n",
       "    .dataframe tbody tr th {\n",
       "        vertical-align: top;\n",
       "    }\n",
       "\n",
       "    .dataframe thead th {\n",
       "        text-align: right;\n",
       "    }\n",
       "</style>\n",
       "<table border=\"1\" class=\"dataframe\">\n",
       "  <thead>\n",
       "    <tr style=\"text-align: right;\">\n",
       "      <th></th>\n",
       "      <th>sentences</th>\n",
       "      <th>embed</th>\n",
       "      <th>topic</th>\n",
       "    </tr>\n",
       "  </thead>\n",
       "  <tbody>\n",
       "    <tr>\n",
       "      <th>0</th>\n",
       "      <td>Congressman Carol Miller ?</td>\n",
       "      <td>[0.05492091551423073, 0.023301545530557632, 0....</td>\n",
       "      <td>healthcare</td>\n",
       "    </tr>\n",
       "    <tr>\n",
       "      <th>1</th>\n",
       "      <td>Dear Friend, Happy Presidents' Day weekend!</td>\n",
       "      <td>[-0.03798495605587959, -0.06996205449104309, 0...</td>\n",
       "      <td>healthcare</td>\n",
       "    </tr>\n",
       "    <tr>\n",
       "      <th>2</th>\n",
       "      <td>On this day we honor all that our Presidents h...</td>\n",
       "      <td>[-0.06237169727683067, -0.08522521704435349, 0...</td>\n",
       "      <td>healthcare</td>\n",
       "    </tr>\n",
       "    <tr>\n",
       "      <th>3</th>\n",
       "      <td>This week was filled with many exciting develo...</td>\n",
       "      <td>[-0.04813029244542122, -0.04647025093436241, -...</td>\n",
       "      <td>healthcare</td>\n",
       "    </tr>\n",
       "    <tr>\n",
       "      <th>4</th>\n",
       "      <td>I introduced legislation to fill the remaining...</td>\n",
       "      <td>[-0.04485123232007027, -0.07864920049905777, -...</td>\n",
       "      <td>healthcare</td>\n",
       "    </tr>\n",
       "  </tbody>\n",
       "</table>\n",
       "</div>"
      ],
      "text/plain": [
       "                                           sentences  \\\n",
       "0                         Congressman Carol Miller ?   \n",
       "1        Dear Friend, Happy Presidents' Day weekend!   \n",
       "2  On this day we honor all that our Presidents h...   \n",
       "3  This week was filled with many exciting develo...   \n",
       "4  I introduced legislation to fill the remaining...   \n",
       "\n",
       "                                               embed       topic  \n",
       "0  [0.05492091551423073, 0.023301545530557632, 0....  healthcare  \n",
       "1  [-0.03798495605587959, -0.06996205449104309, 0...  healthcare  \n",
       "2  [-0.06237169727683067, -0.08522521704435349, 0...  healthcare  \n",
       "3  [-0.04813029244542122, -0.04647025093436241, -...  healthcare  \n",
       "4  [-0.04485123232007027, -0.07864920049905777, -...  healthcare  "
      ]
     },
     "execution_count": 2,
     "metadata": {},
     "output_type": "execute_result"
    }
   ],
   "source": [
    "df = pd.read_csv(\"DCForTrain.csv\")\n",
    "df.head()"
   ]
  },
  {
   "cell_type": "code",
   "execution_count": 3,
   "metadata": {},
   "outputs": [
    {
     "data": {
      "text/plain": [
       "{'healthcare': 0,\n",
       " 'pet': 1,\n",
       " 'business': 2,\n",
       " 'fashion beauty': 3,\n",
       " 'fitness sports': 4,\n",
       " 'food beverage': 5,\n",
       " 'media enterainment': 6,\n",
       " 'lifecycle home': 7,\n",
       " 'consumer': 8,\n",
       " 'green cleantech': 9,\n",
       " 'children education': 10,\n",
       " 'software tech': 11}"
      ]
     },
     "execution_count": 3,
     "metadata": {},
     "output_type": "execute_result"
    }
   ],
   "source": [
    "path = 'cleanedDCinboxResource/'\n",
    "dest_path = 'encodedDCinboxResource/'\n",
    "dirs = os.listdir(path)\n",
    "dirs\n",
    "topics = map(lambda x: x.replace('.json.csv',''), dirs) \n",
    "topics = list(topics)\n",
    "topics_df = pd.DataFrame(topics)\n",
    "topics_index = list(topics_df.index)\n",
    "topics_index\n",
    "\n",
    "topic_dict = dict(zip(topics, topics_index))\n",
    "topic_dict"
   ]
  },
  {
   "cell_type": "code",
   "execution_count": 4,
   "metadata": {},
   "outputs": [
    {
     "name": "stderr",
     "output_type": "stream",
     "text": [
      "/usr/local/lib/python3.6/site-packages/ipykernel_launcher.py:13: SettingWithCopyWarning: \n",
      "A value is trying to be set on a copy of a slice from a DataFrame.\n",
      "Try using .loc[row_indexer,col_indexer] = value instead\n",
      "\n",
      "See the caveats in the documentation: http://pandas.pydata.org/pandas-docs/stable/user_guide/indexing.html#returning-a-view-versus-a-copy\n",
      "  del sys.path[0]\n"
     ]
    },
    {
     "data": {
      "text/html": [
       "<div>\n",
       "<style scoped>\n",
       "    .dataframe tbody tr th:only-of-type {\n",
       "        vertical-align: middle;\n",
       "    }\n",
       "\n",
       "    .dataframe tbody tr th {\n",
       "        vertical-align: top;\n",
       "    }\n",
       "\n",
       "    .dataframe thead th {\n",
       "        text-align: right;\n",
       "    }\n",
       "</style>\n",
       "<table border=\"1\" class=\"dataframe\">\n",
       "  <thead>\n",
       "    <tr style=\"text-align: right;\">\n",
       "      <th></th>\n",
       "      <th>0</th>\n",
       "      <th>1</th>\n",
       "      <th>2</th>\n",
       "      <th>3</th>\n",
       "      <th>4</th>\n",
       "      <th>5</th>\n",
       "      <th>6</th>\n",
       "      <th>7</th>\n",
       "      <th>8</th>\n",
       "      <th>9</th>\n",
       "      <th>...</th>\n",
       "      <th>502</th>\n",
       "      <th>503</th>\n",
       "      <th>504</th>\n",
       "      <th>505</th>\n",
       "      <th>506</th>\n",
       "      <th>507</th>\n",
       "      <th>508</th>\n",
       "      <th>509</th>\n",
       "      <th>510</th>\n",
       "      <th>511</th>\n",
       "    </tr>\n",
       "  </thead>\n",
       "  <tbody>\n",
       "    <tr>\n",
       "      <th>0</th>\n",
       "      <td>0.054921</td>\n",
       "      <td>0.023302</td>\n",
       "      <td>0.020982</td>\n",
       "      <td>-0.026948</td>\n",
       "      <td>-0.023186</td>\n",
       "      <td>-0.065200</td>\n",
       "      <td>-0.058983</td>\n",
       "      <td>-0.035443</td>\n",
       "      <td>0.048876</td>\n",
       "      <td>-0.046086</td>\n",
       "      <td>...</td>\n",
       "      <td>-0.006283</td>\n",
       "      <td>-0.028407</td>\n",
       "      <td>0.003497</td>\n",
       "      <td>-0.021077</td>\n",
       "      <td>-0.052233</td>\n",
       "      <td>-0.006062</td>\n",
       "      <td>-0.033835</td>\n",
       "      <td>0.056937</td>\n",
       "      <td>0.031446</td>\n",
       "      <td>0.074664</td>\n",
       "    </tr>\n",
       "    <tr>\n",
       "      <th>1</th>\n",
       "      <td>-0.037985</td>\n",
       "      <td>-0.069962</td>\n",
       "      <td>0.037102</td>\n",
       "      <td>0.048221</td>\n",
       "      <td>0.053405</td>\n",
       "      <td>0.058545</td>\n",
       "      <td>-0.050000</td>\n",
       "      <td>-0.013386</td>\n",
       "      <td>-0.034736</td>\n",
       "      <td>-0.045103</td>\n",
       "      <td>...</td>\n",
       "      <td>0.001811</td>\n",
       "      <td>0.020552</td>\n",
       "      <td>0.066109</td>\n",
       "      <td>0.010746</td>\n",
       "      <td>-0.039018</td>\n",
       "      <td>-0.012361</td>\n",
       "      <td>0.022109</td>\n",
       "      <td>-0.010583</td>\n",
       "      <td>-0.054189</td>\n",
       "      <td>0.020036</td>\n",
       "    </tr>\n",
       "  </tbody>\n",
       "</table>\n",
       "<p>2 rows × 512 columns</p>\n",
       "</div>"
      ],
      "text/plain": [
       "        0         1         2         3         4         5         6    \\\n",
       "0  0.054921  0.023302  0.020982 -0.026948 -0.023186 -0.065200 -0.058983   \n",
       "1 -0.037985 -0.069962  0.037102  0.048221  0.053405  0.058545 -0.050000   \n",
       "\n",
       "        7         8         9    ...       502       503       504       505  \\\n",
       "0 -0.035443  0.048876 -0.046086  ... -0.006283 -0.028407  0.003497 -0.021077   \n",
       "1 -0.013386 -0.034736 -0.045103  ...  0.001811  0.020552  0.066109  0.010746   \n",
       "\n",
       "        506       507       508       509       510       511  \n",
       "0 -0.052233 -0.006062 -0.033835  0.056937  0.031446  0.074664  \n",
       "1 -0.039018 -0.012361  0.022109 -0.010583 -0.054189  0.020036  \n",
       "\n",
       "[2 rows x 512 columns]"
      ]
     },
     "execution_count": 4,
     "metadata": {},
     "output_type": "execute_result"
    }
   ],
   "source": [
    "# Set up training data\n",
    "df_train = pd.DataFrame()\n",
    "\n",
    "for i in dirs:\n",
    "    temp = pd.read_csv(\"encodedDCinboxResource/\" + i)\n",
    "    temp['topic'] = i.replace('.json.csv','')\n",
    "    df_train = df_train.append(temp.iloc[:temp.index.size//2,:])\n",
    "\n",
    "\n",
    "    \n",
    "# Set up for X_train\n",
    "X_train = df_train[['embed']]\n",
    "X_train['embed'] = X_train['embed'].apply(json.loads)\n",
    "# X_train['embed']\n",
    "X_train = pd.DataFrame(X_train['embed'].tolist(), columns=range(0, 512))\n",
    "X_train.head(2)\n",
    "\n",
    "# X_train = df.copy(deep=True) # copy the dataframe \n",
    "# X_train = X_train[['embed']]\n",
    "# X_train = X_train.iloc[:22981,:]\n",
    "# X_train['embed'] = X_train['embed'].apply(json.loads)\n",
    "# # X_train['embed']\n",
    "# X_train = pd.DataFrame(X_train['embed'].tolist(), columns=range(0, 512))\n",
    "# X_train.head(2)"
   ]
  },
  {
   "cell_type": "code",
   "execution_count": 5,
   "metadata": {},
   "outputs": [
    {
     "data": {
      "text/plain": [
       "0    0\n",
       "1    0\n",
       "Name: topic, dtype: int64"
      ]
     },
     "execution_count": 5,
     "metadata": {},
     "output_type": "execute_result"
    }
   ],
   "source": [
    "# Set up for y_train\n",
    "\n",
    "y_train = df_train.copy(deep=True)\n",
    "y_train = y_train[['topic']]\n",
    "y_train = y_train.iloc[:22981,:]\n",
    "y_train = y_train['topic'].map(topic_dict)\n",
    "y_train.head(2)"
   ]
  },
  {
   "cell_type": "code",
   "execution_count": 8,
   "metadata": {},
   "outputs": [],
   "source": [
    "# settinf up model\n",
    "\n",
    "clf = svm.SVR()\n",
    "clf.fit(X = X_train, y = y_train)\n",
    "\n",
    "# dump the model for further usage\n",
    "from joblib import dump, load\n",
    "dump(clf, 'tweetModel.joblib') "
   ]
  },
  {
   "cell_type": "code",
   "execution_count": null,
   "metadata": {},
   "outputs": [],
   "source": [
    "Y_predict = clf.predict(X_train)\n",
    "output=pd.DataFrame(data={\"y_train\": y_train, \"ibu\":Y_predict}) \n",
    "\n",
    "output.to_csv(path_or_buf=\"resultssvm.csv\",index=False,quoting=3,sep=',')"
   ]
  },
  {
   "cell_type": "code",
   "execution_count": 11,
   "metadata": {},
   "outputs": [
    {
     "data": {
      "text/plain": [
       "array([-68.62705433, -23.26613862,  -2.7808134 , -24.05696711,\n",
       "       -64.09164676])"
      ]
     },
     "execution_count": 11,
     "metadata": {},
     "output_type": "execute_result"
    }
   ],
   "source": [
    "from sklearn.model_selection import cross_val_score\n",
    "from sklearn.metrics import mean_squared_error\n",
    "from sklearn.preprocessing import StandardScaler\n",
    "from sklearn.linear_model import SGDRegressor\n",
    "from sklearn.pipeline import make_pipeline\n",
    "\n",
    "# pipeline and fit to training set\n",
    "pipeline = make_pipeline(\n",
    "    StandardScaler(),\n",
    "    SGDRegressor()\n",
    ")\n",
    "pipeline.fit(X=X_train, y=y_train)\n",
    "    \n",
    "scores = cross_val_score(pipeline, \n",
    "                         X=X_train,\n",
    "                         y=y_train,\n",
    "                         cv=5)  # cv refers to number of cross-validation cuts\n",
    "scores"
   ]
  },
  {
   "cell_type": "code",
   "execution_count": 14,
   "metadata": {},
   "outputs": [],
   "source": [
    "Y_predict = pipeline.predict(X=X_train)\n",
    "output=pd.DataFrame(data={\"y_train\": y_train, \"ibu\":Y_predict}) \n",
    "\n",
    "output.to_csv(path_or_buf=\"results.csv\",index=False,quoting=3,sep=',')"
   ]
  },
  {
   "cell_type": "code",
   "execution_count": null,
   "metadata": {},
   "outputs": [],
   "source": []
  }
 ],
 "metadata": {
  "kernelspec": {
   "display_name": "Python 3",
   "language": "python",
   "name": "python3"
  },
  "language_info": {
   "codemirror_mode": {
    "name": "ipython",
    "version": 3
   },
   "file_extension": ".py",
   "mimetype": "text/x-python",
   "name": "python",
   "nbconvert_exporter": "python",
   "pygments_lexer": "ipython3",
   "version": "3.6.8"
  }
 },
 "nbformat": 4,
 "nbformat_minor": 4
}
