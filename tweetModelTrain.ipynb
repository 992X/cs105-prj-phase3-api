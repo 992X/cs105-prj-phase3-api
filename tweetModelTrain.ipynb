{
 "cells": [
  {
   "cell_type": "markdown",
   "metadata": {},
   "source": [
    "# Train model using tensorflow embed data "
   ]
  },
  {
   "cell_type": "code",
   "execution_count": 1,
   "metadata": {},
   "outputs": [],
   "source": [
    "# import lib\n",
    "import numpy as np\n",
    "import json\n",
    "import pandas as pd\n",
    "import os\n",
    "from sklearn import svm"
   ]
  },
  {
   "cell_type": "code",
   "execution_count": 2,
   "metadata": {},
   "outputs": [],
   "source": [
    "# df = pd.read_csv(\"DCForTrain.csv\")\n",
    "# df.head()"
   ]
  },
  {
   "cell_type": "code",
   "execution_count": 3,
   "metadata": {},
   "outputs": [
    {
     "data": {
      "text/plain": [
       "{'healthcare': 0,\n",
       " 'pet': 1,\n",
       " 'business': 2,\n",
       " 'fashion beauty': 3,\n",
       " 'fitness sports': 4,\n",
       " 'food beverage': 5,\n",
       " 'media enterainment': 6,\n",
       " 'lifecycle home': 7,\n",
       " 'consumer': 8,\n",
       " 'green cleantech': 9,\n",
       " 'children education': 10,\n",
       " 'software tech': 11}"
      ]
     },
     "execution_count": 3,
     "metadata": {},
     "output_type": "execute_result"
    }
   ],
   "source": [
    "path = 'cleanedDCinboxResource/'\n",
    "dest_path = 'encodedDCinboxResource/'\n",
    "dirs = os.listdir(path)\n",
    "dirs\n",
    "topics = map(lambda x: x.replace('.json.csv',''), dirs) \n",
    "topics = list(topics)\n",
    "topics_df = pd.DataFrame(topics)\n",
    "topics_index = list(topics_df.index)\n",
    "topics_index\n",
    "\n",
    "topic_dict = dict(zip(topics, topics_index))\n",
    "topic_dict"
   ]
  },
  {
   "cell_type": "code",
   "execution_count": 4,
   "metadata": {},
   "outputs": [],
   "source": [
    "# Set up training data\n",
    "df_train = pd.DataFrame()\n",
    "\n",
    "for i in dirs:\n",
    "    temp = pd.read_csv(\"encodedDCinboxResource/\" + i)\n",
    "    temp['topic'] = i.replace('.json.csv','')\n",
    "    df_train = df_train.append(temp.iloc[:temp.index.size//2,:])"
   ]
  },
  {
   "cell_type": "code",
   "execution_count": 5,
   "metadata": {},
   "outputs": [
    {
     "name": "stderr",
     "output_type": "stream",
     "text": [
      "/usr/local/lib/python3.6/site-packages/ipykernel_launcher.py:3: SettingWithCopyWarning: \n",
      "A value is trying to be set on a copy of a slice from a DataFrame.\n",
      "Try using .loc[row_indexer,col_indexer] = value instead\n",
      "\n",
      "See the caveats in the documentation: http://pandas.pydata.org/pandas-docs/stable/user_guide/indexing.html#returning-a-view-versus-a-copy\n",
      "  This is separate from the ipykernel package so we can avoid doing imports until\n"
     ]
    }
   ],
   "source": [
    "# Set up for X_train\n",
    "X_train = df_train[['embed']]\n",
    "X_train['embed'] = X_train['embed'].apply(json.loads)\n",
    "# X_train['embed']\n",
    "X_train = pd.DataFrame(X_train['embed'].tolist(), columns=range(0, 512))\n",
    "\n",
    "\n",
    "from sklearn.decomposition import TruncatedSVD\n",
    "\n",
    "X_reduced = TruncatedSVD(n_components = 50, random_state = 0).fit_transform(X_train)\n",
    "X_train = pd.DataFrame(X_reduced, columns=range(0,50))\n",
    "# X_train = X_train.sample(frac=1,random_state = 5)\n",
    "\n",
    "\n",
    "# X_train = df.copy(deep=True) # copy the dataframe \n",
    "# X_train = X_train[['embed']]\n",
    "# X_train = X_train.iloc[:22981,:]\n",
    "# X_train['embed'] = X_train['embed'].apply(json.loads)\n",
    "# # X_train['embed']\n",
    "# X_train = pd.DataFrame(X_train['embed'].tolist(), columns=range(0, 512))\n",
    "# X_train.head(2)"
   ]
  },
  {
   "cell_type": "code",
   "execution_count": null,
   "metadata": {},
   "outputs": [],
   "source": []
  },
  {
   "cell_type": "code",
   "execution_count": 6,
   "metadata": {},
   "outputs": [
    {
     "data": {
      "text/plain": [
       "0         0\n",
       "1         0\n",
       "2         0\n",
       "3         0\n",
       "4         0\n",
       "         ..\n",
       "22839    11\n",
       "22840    11\n",
       "22841    11\n",
       "22842    11\n",
       "22843    11\n",
       "Name: topic, Length: 22844, dtype: int64"
      ]
     },
     "execution_count": 6,
     "metadata": {},
     "output_type": "execute_result"
    }
   ],
   "source": [
    "# Set up for y_train\n",
    "y_train = df_train.copy(deep=True)\n",
    "y_train = y_train[['topic']]\n",
    "y_train = y_train['topic'].map(topic_dict)\n",
    "y_train = y_train.reset_index(drop = True)\n",
    "# y_train = y_train.sample(frac=1,random_state = 5)\n",
    "y_train\n"
   ]
  },
  {
   "cell_type": "code",
   "execution_count": 7,
   "metadata": {},
   "outputs": [
    {
     "data": {
      "text/plain": [
       "['tweetModel.joblib']"
      ]
     },
     "execution_count": 7,
     "metadata": {},
     "output_type": "execute_result"
    }
   ],
   "source": [
    "# settinf up model\n",
    "\n",
    "clf = svm.SVC()\n",
    "clf.fit(X = X_train, y = y_train)\n",
    "# dump the model for further usage\n",
    "from joblib import dump, load\n",
    "dump(clf, 'tweetModel.joblib') \n"
   ]
  },
  {
   "cell_type": "code",
   "execution_count": 8,
   "metadata": {},
   "outputs": [
    {
     "name": "stderr",
     "output_type": "stream",
     "text": [
      "/usr/local/lib/python3.6/site-packages/ipykernel_launcher.py:12: SettingWithCopyWarning: \n",
      "A value is trying to be set on a copy of a slice from a DataFrame.\n",
      "Try using .loc[row_indexer,col_indexer] = value instead\n",
      "\n",
      "See the caveats in the documentation: http://pandas.pydata.org/pandas-docs/stable/user_guide/indexing.html#returning-a-view-versus-a-copy\n",
      "  if sys.path[0] == '':\n"
     ]
    },
    {
     "data": {
      "text/html": [
       "<div>\n",
       "<style scoped>\n",
       "    .dataframe tbody tr th:only-of-type {\n",
       "        vertical-align: middle;\n",
       "    }\n",
       "\n",
       "    .dataframe tbody tr th {\n",
       "        vertical-align: top;\n",
       "    }\n",
       "\n",
       "    .dataframe thead th {\n",
       "        text-align: right;\n",
       "    }\n",
       "</style>\n",
       "<table border=\"1\" class=\"dataframe\">\n",
       "  <thead>\n",
       "    <tr style=\"text-align: right;\">\n",
       "      <th></th>\n",
       "      <th>0</th>\n",
       "      <th>1</th>\n",
       "      <th>2</th>\n",
       "      <th>3</th>\n",
       "      <th>4</th>\n",
       "      <th>5</th>\n",
       "      <th>6</th>\n",
       "      <th>7</th>\n",
       "      <th>8</th>\n",
       "      <th>9</th>\n",
       "      <th>...</th>\n",
       "      <th>40</th>\n",
       "      <th>41</th>\n",
       "      <th>42</th>\n",
       "      <th>43</th>\n",
       "      <th>44</th>\n",
       "      <th>45</th>\n",
       "      <th>46</th>\n",
       "      <th>47</th>\n",
       "      <th>48</th>\n",
       "      <th>49</th>\n",
       "    </tr>\n",
       "  </thead>\n",
       "  <tbody>\n",
       "    <tr>\n",
       "      <th>0</th>\n",
       "      <td>0.433665</td>\n",
       "      <td>-0.300330</td>\n",
       "      <td>-0.258646</td>\n",
       "      <td>-0.006743</td>\n",
       "      <td>0.040009</td>\n",
       "      <td>-0.062847</td>\n",
       "      <td>-0.088324</td>\n",
       "      <td>-0.085778</td>\n",
       "      <td>0.143490</td>\n",
       "      <td>-0.072497</td>\n",
       "      <td>...</td>\n",
       "      <td>-0.045573</td>\n",
       "      <td>0.036898</td>\n",
       "      <td>-0.091726</td>\n",
       "      <td>0.026516</td>\n",
       "      <td>0.011907</td>\n",
       "      <td>-0.027616</td>\n",
       "      <td>-0.107099</td>\n",
       "      <td>0.013576</td>\n",
       "      <td>0.079907</td>\n",
       "      <td>-0.034356</td>\n",
       "    </tr>\n",
       "    <tr>\n",
       "      <th>1</th>\n",
       "      <td>0.031923</td>\n",
       "      <td>-0.025417</td>\n",
       "      <td>0.014876</td>\n",
       "      <td>0.088494</td>\n",
       "      <td>-0.016803</td>\n",
       "      <td>-0.205721</td>\n",
       "      <td>0.001168</td>\n",
       "      <td>-0.010152</td>\n",
       "      <td>0.120703</td>\n",
       "      <td>-0.066450</td>\n",
       "      <td>...</td>\n",
       "      <td>0.030698</td>\n",
       "      <td>-0.044277</td>\n",
       "      <td>0.010753</td>\n",
       "      <td>0.100594</td>\n",
       "      <td>-0.025907</td>\n",
       "      <td>-0.007513</td>\n",
       "      <td>0.160023</td>\n",
       "      <td>0.132531</td>\n",
       "      <td>-0.047516</td>\n",
       "      <td>0.066379</td>\n",
       "    </tr>\n",
       "    <tr>\n",
       "      <th>2</th>\n",
       "      <td>0.538038</td>\n",
       "      <td>-0.185097</td>\n",
       "      <td>-0.331686</td>\n",
       "      <td>0.002332</td>\n",
       "      <td>0.110980</td>\n",
       "      <td>-0.012044</td>\n",
       "      <td>-0.028951</td>\n",
       "      <td>0.010553</td>\n",
       "      <td>0.048111</td>\n",
       "      <td>-0.110087</td>\n",
       "      <td>...</td>\n",
       "      <td>-0.106713</td>\n",
       "      <td>-0.128402</td>\n",
       "      <td>0.053386</td>\n",
       "      <td>0.121790</td>\n",
       "      <td>0.006403</td>\n",
       "      <td>0.042294</td>\n",
       "      <td>0.075902</td>\n",
       "      <td>-0.029979</td>\n",
       "      <td>0.001999</td>\n",
       "      <td>-0.014662</td>\n",
       "    </tr>\n",
       "    <tr>\n",
       "      <th>3</th>\n",
       "      <td>0.164621</td>\n",
       "      <td>0.048707</td>\n",
       "      <td>-0.160095</td>\n",
       "      <td>0.118009</td>\n",
       "      <td>-0.119589</td>\n",
       "      <td>0.013265</td>\n",
       "      <td>-0.037521</td>\n",
       "      <td>0.267212</td>\n",
       "      <td>0.013528</td>\n",
       "      <td>-0.136600</td>\n",
       "      <td>...</td>\n",
       "      <td>-0.062009</td>\n",
       "      <td>-0.023080</td>\n",
       "      <td>-0.003976</td>\n",
       "      <td>0.002577</td>\n",
       "      <td>-0.060106</td>\n",
       "      <td>0.040134</td>\n",
       "      <td>-0.028644</td>\n",
       "      <td>0.093866</td>\n",
       "      <td>0.018757</td>\n",
       "      <td>0.007569</td>\n",
       "    </tr>\n",
       "    <tr>\n",
       "      <th>4</th>\n",
       "      <td>0.134802</td>\n",
       "      <td>0.102678</td>\n",
       "      <td>-0.073790</td>\n",
       "      <td>0.166910</td>\n",
       "      <td>0.001184</td>\n",
       "      <td>0.059679</td>\n",
       "      <td>-0.258499</td>\n",
       "      <td>0.201932</td>\n",
       "      <td>-0.092750</td>\n",
       "      <td>0.179935</td>\n",
       "      <td>...</td>\n",
       "      <td>0.038618</td>\n",
       "      <td>0.069579</td>\n",
       "      <td>-0.032078</td>\n",
       "      <td>-0.009885</td>\n",
       "      <td>0.103096</td>\n",
       "      <td>-0.083153</td>\n",
       "      <td>-0.054665</td>\n",
       "      <td>0.010873</td>\n",
       "      <td>-0.014237</td>\n",
       "      <td>-0.099475</td>\n",
       "    </tr>\n",
       "    <tr>\n",
       "      <th>...</th>\n",
       "      <td>...</td>\n",
       "      <td>...</td>\n",
       "      <td>...</td>\n",
       "      <td>...</td>\n",
       "      <td>...</td>\n",
       "      <td>...</td>\n",
       "      <td>...</td>\n",
       "      <td>...</td>\n",
       "      <td>...</td>\n",
       "      <td>...</td>\n",
       "      <td>...</td>\n",
       "      <td>...</td>\n",
       "      <td>...</td>\n",
       "      <td>...</td>\n",
       "      <td>...</td>\n",
       "      <td>...</td>\n",
       "      <td>...</td>\n",
       "      <td>...</td>\n",
       "      <td>...</td>\n",
       "      <td>...</td>\n",
       "      <td>...</td>\n",
       "    </tr>\n",
       "    <tr>\n",
       "      <th>22844</th>\n",
       "      <td>-0.043832</td>\n",
       "      <td>0.055413</td>\n",
       "      <td>0.082503</td>\n",
       "      <td>-0.102701</td>\n",
       "      <td>-0.001854</td>\n",
       "      <td>0.134199</td>\n",
       "      <td>0.080034</td>\n",
       "      <td>-0.118629</td>\n",
       "      <td>-0.064628</td>\n",
       "      <td>0.073833</td>\n",
       "      <td>...</td>\n",
       "      <td>-0.026067</td>\n",
       "      <td>0.060851</td>\n",
       "      <td>0.058407</td>\n",
       "      <td>0.025040</td>\n",
       "      <td>0.140596</td>\n",
       "      <td>0.023984</td>\n",
       "      <td>0.017319</td>\n",
       "      <td>0.048367</td>\n",
       "      <td>0.067492</td>\n",
       "      <td>0.072318</td>\n",
       "    </tr>\n",
       "    <tr>\n",
       "      <th>22845</th>\n",
       "      <td>0.088654</td>\n",
       "      <td>0.060587</td>\n",
       "      <td>0.128061</td>\n",
       "      <td>-0.152659</td>\n",
       "      <td>0.038111</td>\n",
       "      <td>0.245061</td>\n",
       "      <td>-0.031752</td>\n",
       "      <td>0.111618</td>\n",
       "      <td>0.219069</td>\n",
       "      <td>0.041505</td>\n",
       "      <td>...</td>\n",
       "      <td>-0.018163</td>\n",
       "      <td>0.147643</td>\n",
       "      <td>-0.076512</td>\n",
       "      <td>0.073008</td>\n",
       "      <td>0.154606</td>\n",
       "      <td>-0.042940</td>\n",
       "      <td>-0.067832</td>\n",
       "      <td>0.167693</td>\n",
       "      <td>0.070880</td>\n",
       "      <td>0.086594</td>\n",
       "    </tr>\n",
       "    <tr>\n",
       "      <th>22846</th>\n",
       "      <td>0.199693</td>\n",
       "      <td>0.110279</td>\n",
       "      <td>0.027263</td>\n",
       "      <td>-0.273061</td>\n",
       "      <td>-0.117996</td>\n",
       "      <td>0.212826</td>\n",
       "      <td>-0.090640</td>\n",
       "      <td>-0.157041</td>\n",
       "      <td>0.061467</td>\n",
       "      <td>-0.013568</td>\n",
       "      <td>...</td>\n",
       "      <td>0.076798</td>\n",
       "      <td>0.020782</td>\n",
       "      <td>0.005607</td>\n",
       "      <td>0.027434</td>\n",
       "      <td>0.143662</td>\n",
       "      <td>0.020939</td>\n",
       "      <td>-0.021284</td>\n",
       "      <td>-0.008084</td>\n",
       "      <td>0.051726</td>\n",
       "      <td>0.008690</td>\n",
       "    </tr>\n",
       "    <tr>\n",
       "      <th>22847</th>\n",
       "      <td>0.271188</td>\n",
       "      <td>0.143580</td>\n",
       "      <td>0.143182</td>\n",
       "      <td>0.048309</td>\n",
       "      <td>-0.241884</td>\n",
       "      <td>0.245663</td>\n",
       "      <td>0.071801</td>\n",
       "      <td>-0.292509</td>\n",
       "      <td>-0.001896</td>\n",
       "      <td>-0.064961</td>\n",
       "      <td>...</td>\n",
       "      <td>0.038891</td>\n",
       "      <td>0.136189</td>\n",
       "      <td>-0.088013</td>\n",
       "      <td>-0.003500</td>\n",
       "      <td>0.216560</td>\n",
       "      <td>0.124781</td>\n",
       "      <td>-0.017238</td>\n",
       "      <td>0.051184</td>\n",
       "      <td>0.044711</td>\n",
       "      <td>0.005829</td>\n",
       "    </tr>\n",
       "    <tr>\n",
       "      <th>22848</th>\n",
       "      <td>-0.010471</td>\n",
       "      <td>0.040818</td>\n",
       "      <td>0.008668</td>\n",
       "      <td>-0.013902</td>\n",
       "      <td>-0.113527</td>\n",
       "      <td>0.020646</td>\n",
       "      <td>0.014649</td>\n",
       "      <td>0.210333</td>\n",
       "      <td>-0.189030</td>\n",
       "      <td>0.051298</td>\n",
       "      <td>...</td>\n",
       "      <td>-0.086155</td>\n",
       "      <td>-0.133656</td>\n",
       "      <td>0.004560</td>\n",
       "      <td>-0.021318</td>\n",
       "      <td>-0.010628</td>\n",
       "      <td>-0.019016</td>\n",
       "      <td>0.031854</td>\n",
       "      <td>0.071892</td>\n",
       "      <td>0.085779</td>\n",
       "      <td>0.033909</td>\n",
       "    </tr>\n",
       "  </tbody>\n",
       "</table>\n",
       "<p>22849 rows × 50 columns</p>\n",
       "</div>"
      ],
      "text/plain": [
       "             0         1         2         3         4         5         6   \\\n",
       "0      0.433665 -0.300330 -0.258646 -0.006743  0.040009 -0.062847 -0.088324   \n",
       "1      0.031923 -0.025417  0.014876  0.088494 -0.016803 -0.205721  0.001168   \n",
       "2      0.538038 -0.185097 -0.331686  0.002332  0.110980 -0.012044 -0.028951   \n",
       "3      0.164621  0.048707 -0.160095  0.118009 -0.119589  0.013265 -0.037521   \n",
       "4      0.134802  0.102678 -0.073790  0.166910  0.001184  0.059679 -0.258499   \n",
       "...         ...       ...       ...       ...       ...       ...       ...   \n",
       "22844 -0.043832  0.055413  0.082503 -0.102701 -0.001854  0.134199  0.080034   \n",
       "22845  0.088654  0.060587  0.128061 -0.152659  0.038111  0.245061 -0.031752   \n",
       "22846  0.199693  0.110279  0.027263 -0.273061 -0.117996  0.212826 -0.090640   \n",
       "22847  0.271188  0.143580  0.143182  0.048309 -0.241884  0.245663  0.071801   \n",
       "22848 -0.010471  0.040818  0.008668 -0.013902 -0.113527  0.020646  0.014649   \n",
       "\n",
       "             7         8         9   ...        40        41        42  \\\n",
       "0     -0.085778  0.143490 -0.072497  ... -0.045573  0.036898 -0.091726   \n",
       "1     -0.010152  0.120703 -0.066450  ...  0.030698 -0.044277  0.010753   \n",
       "2      0.010553  0.048111 -0.110087  ... -0.106713 -0.128402  0.053386   \n",
       "3      0.267212  0.013528 -0.136600  ... -0.062009 -0.023080 -0.003976   \n",
       "4      0.201932 -0.092750  0.179935  ...  0.038618  0.069579 -0.032078   \n",
       "...         ...       ...       ...  ...       ...       ...       ...   \n",
       "22844 -0.118629 -0.064628  0.073833  ... -0.026067  0.060851  0.058407   \n",
       "22845  0.111618  0.219069  0.041505  ... -0.018163  0.147643 -0.076512   \n",
       "22846 -0.157041  0.061467 -0.013568  ...  0.076798  0.020782  0.005607   \n",
       "22847 -0.292509 -0.001896 -0.064961  ...  0.038891  0.136189 -0.088013   \n",
       "22848  0.210333 -0.189030  0.051298  ... -0.086155 -0.133656  0.004560   \n",
       "\n",
       "             43        44        45        46        47        48        49  \n",
       "0      0.026516  0.011907 -0.027616 -0.107099  0.013576  0.079907 -0.034356  \n",
       "1      0.100594 -0.025907 -0.007513  0.160023  0.132531 -0.047516  0.066379  \n",
       "2      0.121790  0.006403  0.042294  0.075902 -0.029979  0.001999 -0.014662  \n",
       "3      0.002577 -0.060106  0.040134 -0.028644  0.093866  0.018757  0.007569  \n",
       "4     -0.009885  0.103096 -0.083153 -0.054665  0.010873 -0.014237 -0.099475  \n",
       "...         ...       ...       ...       ...       ...       ...       ...  \n",
       "22844  0.025040  0.140596  0.023984  0.017319  0.048367  0.067492  0.072318  \n",
       "22845  0.073008  0.154606 -0.042940 -0.067832  0.167693  0.070880  0.086594  \n",
       "22846  0.027434  0.143662  0.020939 -0.021284 -0.008084  0.051726  0.008690  \n",
       "22847 -0.003500  0.216560  0.124781 -0.017238  0.051184  0.044711  0.005829  \n",
       "22848 -0.021318 -0.010628 -0.019016  0.031854  0.071892  0.085779  0.033909  \n",
       "\n",
       "[22849 rows x 50 columns]"
      ]
     },
     "execution_count": 8,
     "metadata": {},
     "output_type": "execute_result"
    }
   ],
   "source": [
    "df_test = pd.DataFrame()\n",
    "\n",
    "for i in dirs:\n",
    "    temp = pd.read_csv(\"encodedDCinboxResource/\" + i)\n",
    "    temp['topic'] = i.replace('.json.csv','')\n",
    "    df_test = df_test.append(temp.iloc[temp.index.size//2:,:])\n",
    "\n",
    "\n",
    "    \n",
    "# Set up for X_test\n",
    "X_test = df_test[['embed']]\n",
    "X_test['embed'] = X_test['embed'].apply(json.loads)\n",
    "# X_train['embed']\n",
    "X_test= pd.DataFrame(X_test['embed'].tolist(), columns=range(0, 512))\n",
    "X_test_reduced = TruncatedSVD(n_components = 50, random_state = 0).fit_transform(X_test)\n",
    "X_test = pd.DataFrame(X_test_reduced, columns=range(0,50))\n",
    "X_test"
   ]
  },
  {
   "cell_type": "code",
   "execution_count": 9,
   "metadata": {},
   "outputs": [
    {
     "data": {
      "text/plain": [
       "0         0\n",
       "1         0\n",
       "2         0\n",
       "3         0\n",
       "4         0\n",
       "         ..\n",
       "22844    11\n",
       "22845    11\n",
       "22846    11\n",
       "22847    11\n",
       "22848    11\n",
       "Name: topic, Length: 22849, dtype: int64"
      ]
     },
     "execution_count": 9,
     "metadata": {},
     "output_type": "execute_result"
    }
   ],
   "source": [
    "y_test = df_test.copy(deep=True)\n",
    "y_test = y_test[['topic']]\n",
    "y_test = y_test['topic'].map(topic_dict)\n",
    "y_test = y_test.reset_index(drop = True)\n",
    "y_test"
   ]
  },
  {
   "cell_type": "code",
   "execution_count": 10,
   "metadata": {},
   "outputs": [],
   "source": [
    "Y_predict = clf.predict(X_train.sort_index())\n",
    "\n",
    "output=pd.DataFrame(data={\"y_train\": y_train.sort_index(), \"Y_predict\":Y_predict}) \n",
    "\n",
    "output.to_csv(path_or_buf=\"resultssvm.csv\",index=False,quoting=3,sep=',')"
   ]
  },
  {
   "cell_type": "code",
   "execution_count": 11,
   "metadata": {},
   "outputs": [
    {
     "data": {
      "text/plain": [
       "array([0.07616546, 0.05821843, 0.08732764, 0.09848982, 0.11011384])"
      ]
     },
     "execution_count": 11,
     "metadata": {},
     "output_type": "execute_result"
    }
   ],
   "source": [
    "from sklearn.model_selection import cross_val_score\n",
    "from sklearn.metrics import mean_squared_error\n",
    "from sklearn.preprocessing import StandardScaler\n",
    "from sklearn.linear_model import SGDRegressor\n",
    "from sklearn.pipeline import make_pipeline\n",
    "\n",
    "# pipeline and fit to training set\n",
    "pipeline = make_pipeline(\n",
    "    StandardScaler(),\n",
    "    svm.SVC()\n",
    ")\n",
    "pipeline.fit(X=X_train, y=y_train)\n",
    "    \n",
    "scores = cross_val_score(pipeline, \n",
    "                         X=X_train.sort_index(),\n",
    "                         y=y_train.sort_index(),\n",
    "                         cv=5)  # cv refers to number of cross-validation cuts\n",
    "scores"
   ]
  },
  {
   "cell_type": "code",
   "execution_count": 17,
   "metadata": {},
   "outputs": [
    {
     "data": {
      "text/plain": [
       "0.35711784275958675"
      ]
     },
     "execution_count": 17,
     "metadata": {},
     "output_type": "execute_result"
    }
   ],
   "source": [
    "Y_predict = pipeline.predict(X=X_train.sort_index())\n",
    "from sklearn.metrics import accuracy_score\n",
    "accuracy_score(y_train.sort_index(),Y_predict)\n",
    "output=pd.DataFrame(data={\"y_test\": y_train.sort_index(), \"Y_predict\":Y_predict}) \n",
    "\n",
    "output.to_csv(path_or_buf=\"results.csv\",index=False,quoting=3,sep=',')"
   ]
  },
  {
   "cell_type": "code",
   "execution_count": 13,
   "metadata": {},
   "outputs": [
    {
     "data": {
      "text/plain": [
       "['tweetModelCVPipeline.joblib']"
      ]
     },
     "execution_count": 13,
     "metadata": {},
     "output_type": "execute_result"
    }
   ],
   "source": [
    "dump(pipeline, 'tweetModelCVPipeline.joblib') "
   ]
  },
  {
   "cell_type": "code",
   "execution_count": 18,
   "metadata": {},
   "outputs": [
    {
     "data": {
      "text/plain": [
       "0.08744365180095409"
      ]
     },
     "execution_count": 18,
     "metadata": {},
     "output_type": "execute_result"
    }
   ],
   "source": [
    "Y_test_perdict = pipeline.predict(X=X_test)\n",
    "\n",
    "accuracy_score(y_test,Y_test_perdict)\n",
    "output=pd.DataFrame(data={\"y_test\": y_test, \"Y_predict\":Y_test_perdict}) \n",
    "\n",
    "output.to_csv(path_or_buf=\"results_test.csv\",index=False,quoting=3,sep=',')"
   ]
  },
  {
   "cell_type": "code",
   "execution_count": null,
   "metadata": {},
   "outputs": [],
   "source": []
  }
 ],
 "metadata": {
  "kernelspec": {
   "display_name": "Python 3",
   "language": "python",
   "name": "python3"
  },
  "language_info": {
   "codemirror_mode": {
    "name": "ipython",
    "version": 3
   },
   "file_extension": ".py",
   "mimetype": "text/x-python",
   "name": "python",
   "nbconvert_exporter": "python",
   "pygments_lexer": "ipython3",
   "version": "3.6.8"
  }
 },
 "nbformat": 4,
 "nbformat_minor": 4
}
